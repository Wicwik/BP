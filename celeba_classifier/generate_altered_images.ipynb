{
 "cells": [
  {
   "cell_type": "code",
   "execution_count": 3,
   "id": "divine-hypothetical",
   "metadata": {},
   "outputs": [],
   "source": [
    "import os\n",
    "import glob\n",
    "import pickle\n",
    "import numpy as np\n",
    "\n",
    "import matplotlib.pyplot as plt\n",
    "\n",
    "from custom_gen import StyleGANGenerator\n",
    "import cv2"
   ]
  },
  {
   "cell_type": "code",
   "execution_count": 4,
   "id": "removable-bread",
   "metadata": {},
   "outputs": [],
   "source": [
    "_stylegan_ffhq_f_gdrive_url = 'https://nvlabs-fi-cdn.nvidia.com/stylegan2/networks/stylegan2-ffhq-config-f.pkl'\n",
    "\n",
    "gen = StyleGANGenerator(_stylegan_ffhq_f_gdrive_url)"
   ]
  },
  {
   "cell_type": "code",
   "execution_count": 5,
   "id": "posted-occasion",
   "metadata": {},
   "outputs": [
    {
     "data": {
      "text/plain": [
       "array(['Eyeglasses', 'Smiling', 'Male', 'No_Beard', 'Young'], dtype='<U10')"
      ]
     },
     "execution_count": 5,
     "metadata": {},
     "output_type": "execute_result"
    }
   ],
   "source": [
    "feature_direction_file = glob.glob('feature_direction_inceptionv3_5attr_tanh_normalized.pkl')[0]\n",
    "with open(feature_direction_file, 'rb') as f:\n",
    "    feature_direction_dict = pickle.load(f)\n",
    "\n",
    "feature_direction = feature_direction_dict['direction']\n",
    "feature_names = np.array(feature_direction_dict['name'])\n",
    "feature_names"
   ]
  },
  {
   "cell_type": "code",
   "execution_count": 6,
   "id": "soviet-debate",
   "metadata": {},
   "outputs": [],
   "source": [
    "# rnd = np.random.RandomState(1568) # eyeglasses tanh\n",
    "# rnd = np.random.RandomState(1569) # beard male tanh\n",
    "# rnd = np.random.RandomState(1570) # smiling female young tanh\n",
    "\n",
    "# rnd = np.random.RandomState(1571) # eyeglasses linear\n",
    "# rnd = np.random.RandomState(1572) # beard male linear\n",
    "rnd = np.random.RandomState(1573) # smiling female young linear\n",
    "\n",
    "latents = rnd.randn(9, *gen.Gs.input_shape[1:])\n",
    "\n",
    "imgs1 = gen.get_images(latents)\n",
    "imgs2 = gen.get_images(latents + feature_direction[:, 1] - feature_direction[:, 2] + feature_direction[:, 4])"
   ]
  },
  {
   "cell_type": "code",
   "execution_count": 7,
   "id": "korean-hurricane",
   "metadata": {},
   "outputs": [
    {
     "data": {
      "text/plain": [
       "(9, 512)"
      ]
     },
     "execution_count": 7,
     "metadata": {},
     "output_type": "execute_result"
    }
   ],
   "source": [
    "latents.shape"
   ]
  },
  {
   "cell_type": "code",
   "execution_count": null,
   "id": "modular-specific",
   "metadata": {},
   "outputs": [],
   "source": [
    "for img in imgs1:\n",
    "    plt.axis(\"off\")\n",
    "    plt.imshow(img/255)\n",
    "    plt.show()"
   ]
  },
  {
   "cell_type": "code",
   "execution_count": null,
   "id": "chubby-chicago",
   "metadata": {},
   "outputs": [],
   "source": [
    "for img in imgs2:\n",
    "    plt.axis(\"off\")\n",
    "    plt.imshow(img/255)\n",
    "    plt.show()"
   ]
  },
  {
   "cell_type": "code",
   "execution_count": null,
   "id": "equipped-fireplace",
   "metadata": {},
   "outputs": [],
   "source": [
    "save_path = './'"
   ]
  },
  {
   "cell_type": "code",
   "execution_count": null,
   "id": "latin-conservative",
   "metadata": {},
   "outputs": [],
   "source": [
    "for i, img in enumerate(imgs2):\n",
    "    img = cv2.cvtColor(img, cv2.COLOR_RGB2BGR)\n",
    "#     img = cv2.resize(img, (256,256), interpolation=cv2.INTER_LANCZOS4)\n",
    "    cv2.imwrite(save_path + 'papersample2_gen-' + str(i) + '.png', img)"
   ]
  },
  {
   "cell_type": "code",
   "execution_count": null,
   "id": "incorporated-skirt",
   "metadata": {},
   "outputs": [],
   "source": [
    "for i, img in enumerate(imgs1):\n",
    "    img = cv2.cvtColor(img, cv2.COLOR_RGB2BGR)\n",
    "#     img = cv2.resize(img, (256,256), interpolation=cv2.INTER_LANCZOS4)\n",
    "    cv2.imwrite(save_path + 'papersample2-' + str(i) + '.png', img)"
   ]
  },
  {
   "cell_type": "code",
   "execution_count": null,
   "id": "naughty-variety",
   "metadata": {},
   "outputs": [],
   "source": []
  }
 ],
 "metadata": {
  "kernelspec": {
   "display_name": "Python 3",
   "language": "python",
   "name": "python3"
  },
  "language_info": {
   "codemirror_mode": {
    "name": "ipython",
    "version": 3
   },
   "file_extension": ".py",
   "mimetype": "text/x-python",
   "name": "python",
   "nbconvert_exporter": "python",
   "pygments_lexer": "ipython3",
   "version": "3.7.9"
  }
 },
 "nbformat": 4,
 "nbformat_minor": 5
}
