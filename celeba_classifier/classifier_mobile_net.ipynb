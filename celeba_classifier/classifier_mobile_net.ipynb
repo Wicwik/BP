{
 "cells": [
  {
   "cell_type": "code",
   "execution_count": 1,
   "id": "concrete-organ",
   "metadata": {},
   "outputs": [
    {
     "name": "stderr",
     "output_type": "stream",
     "text": [
      "Using TensorFlow backend.\n"
     ]
    }
   ],
   "source": [
    "import os\n",
    "import pandas as pd\n",
    "import numpy as np\n",
    "import matplotlib.pyplot as plt\n",
    "\n",
    "import keras\n",
    "from keras.models import Sequential, Model \n",
    "from keras.layers import Dropout, Flatten, Dense, GlobalAveragePooling2D\n",
    "from keras.preprocessing.image import ImageDataGenerator\n",
    "from keras.applications.mobilenet import MobileNet, preprocess_input\n",
    "from keras.callbacks import ModelCheckpoint\n",
    "\n",
    "from sklearn.metrics import f1_score\n",
    "from sklearn.metrics import accuracy_score"
   ]
  },
  {
   "cell_type": "code",
   "execution_count": 2,
   "id": "assisted-remedy",
   "metadata": {},
   "outputs": [],
   "source": [
    "_image_dir = '../datasets/celeba/img_align_celeba_png/'\n",
    "_img_width = 128\n",
    "_img_height = 128\n",
    "_batch_size = 128\n",
    "_num_epochs = 50"
   ]
  },
  {
   "cell_type": "code",
   "execution_count": 3,
   "id": "underlying-hierarchy",
   "metadata": {},
   "outputs": [
    {
     "data": {
      "text/html": [
       "<div>\n",
       "<style scoped>\n",
       "    .dataframe tbody tr th:only-of-type {\n",
       "        vertical-align: middle;\n",
       "    }\n",
       "\n",
       "    .dataframe tbody tr th {\n",
       "        vertical-align: top;\n",
       "    }\n",
       "\n",
       "    .dataframe thead th {\n",
       "        text-align: right;\n",
       "    }\n",
       "</style>\n",
       "<table border=\"1\" class=\"dataframe\">\n",
       "  <thead>\n",
       "    <tr style=\"text-align: right;\">\n",
       "      <th></th>\n",
       "      <th>filename</th>\n",
       "      <th>5_o_Clock_Shadow</th>\n",
       "      <th>Arched_Eyebrows</th>\n",
       "      <th>Attractive</th>\n",
       "      <th>Bags_Under_Eyes</th>\n",
       "      <th>Bald</th>\n",
       "      <th>Bangs</th>\n",
       "      <th>Big_Lips</th>\n",
       "      <th>Big_Nose</th>\n",
       "      <th>Black_Hair</th>\n",
       "      <th>...</th>\n",
       "      <th>Smiling</th>\n",
       "      <th>Straight_Hair</th>\n",
       "      <th>Wavy_Hair</th>\n",
       "      <th>Wearing_Earrings</th>\n",
       "      <th>Wearing_Hat</th>\n",
       "      <th>Wearing_Lipstick</th>\n",
       "      <th>Wearing_Necklace</th>\n",
       "      <th>Wearing_Necktie</th>\n",
       "      <th>Young</th>\n",
       "      <th>partition</th>\n",
       "    </tr>\n",
       "  </thead>\n",
       "  <tbody>\n",
       "    <tr>\n",
       "      <th>0</th>\n",
       "      <td>../datasets/celeba/img_align_celeba_png/000001...</td>\n",
       "      <td>0</td>\n",
       "      <td>1</td>\n",
       "      <td>1</td>\n",
       "      <td>0</td>\n",
       "      <td>0</td>\n",
       "      <td>0</td>\n",
       "      <td>0</td>\n",
       "      <td>0</td>\n",
       "      <td>0</td>\n",
       "      <td>...</td>\n",
       "      <td>1</td>\n",
       "      <td>1</td>\n",
       "      <td>0</td>\n",
       "      <td>1</td>\n",
       "      <td>0</td>\n",
       "      <td>1</td>\n",
       "      <td>0</td>\n",
       "      <td>0</td>\n",
       "      <td>1</td>\n",
       "      <td>0</td>\n",
       "    </tr>\n",
       "    <tr>\n",
       "      <th>1</th>\n",
       "      <td>../datasets/celeba/img_align_celeba_png/000002...</td>\n",
       "      <td>0</td>\n",
       "      <td>0</td>\n",
       "      <td>0</td>\n",
       "      <td>1</td>\n",
       "      <td>0</td>\n",
       "      <td>0</td>\n",
       "      <td>0</td>\n",
       "      <td>1</td>\n",
       "      <td>0</td>\n",
       "      <td>...</td>\n",
       "      <td>1</td>\n",
       "      <td>0</td>\n",
       "      <td>0</td>\n",
       "      <td>0</td>\n",
       "      <td>0</td>\n",
       "      <td>0</td>\n",
       "      <td>0</td>\n",
       "      <td>0</td>\n",
       "      <td>1</td>\n",
       "      <td>0</td>\n",
       "    </tr>\n",
       "    <tr>\n",
       "      <th>2</th>\n",
       "      <td>../datasets/celeba/img_align_celeba_png/000003...</td>\n",
       "      <td>0</td>\n",
       "      <td>0</td>\n",
       "      <td>0</td>\n",
       "      <td>0</td>\n",
       "      <td>0</td>\n",
       "      <td>0</td>\n",
       "      <td>1</td>\n",
       "      <td>0</td>\n",
       "      <td>0</td>\n",
       "      <td>...</td>\n",
       "      <td>0</td>\n",
       "      <td>0</td>\n",
       "      <td>1</td>\n",
       "      <td>0</td>\n",
       "      <td>0</td>\n",
       "      <td>0</td>\n",
       "      <td>0</td>\n",
       "      <td>0</td>\n",
       "      <td>1</td>\n",
       "      <td>0</td>\n",
       "    </tr>\n",
       "    <tr>\n",
       "      <th>3</th>\n",
       "      <td>../datasets/celeba/img_align_celeba_png/000004...</td>\n",
       "      <td>0</td>\n",
       "      <td>0</td>\n",
       "      <td>1</td>\n",
       "      <td>0</td>\n",
       "      <td>0</td>\n",
       "      <td>0</td>\n",
       "      <td>0</td>\n",
       "      <td>0</td>\n",
       "      <td>0</td>\n",
       "      <td>...</td>\n",
       "      <td>0</td>\n",
       "      <td>1</td>\n",
       "      <td>0</td>\n",
       "      <td>1</td>\n",
       "      <td>0</td>\n",
       "      <td>1</td>\n",
       "      <td>1</td>\n",
       "      <td>0</td>\n",
       "      <td>1</td>\n",
       "      <td>0</td>\n",
       "    </tr>\n",
       "    <tr>\n",
       "      <th>4</th>\n",
       "      <td>../datasets/celeba/img_align_celeba_png/000005...</td>\n",
       "      <td>0</td>\n",
       "      <td>1</td>\n",
       "      <td>1</td>\n",
       "      <td>0</td>\n",
       "      <td>0</td>\n",
       "      <td>0</td>\n",
       "      <td>1</td>\n",
       "      <td>0</td>\n",
       "      <td>0</td>\n",
       "      <td>...</td>\n",
       "      <td>0</td>\n",
       "      <td>0</td>\n",
       "      <td>0</td>\n",
       "      <td>0</td>\n",
       "      <td>0</td>\n",
       "      <td>1</td>\n",
       "      <td>0</td>\n",
       "      <td>0</td>\n",
       "      <td>1</td>\n",
       "      <td>0</td>\n",
       "    </tr>\n",
       "  </tbody>\n",
       "</table>\n",
       "<p>5 rows × 42 columns</p>\n",
       "</div>"
      ],
      "text/plain": [
       "                                            filename  5_o_Clock_Shadow  \\\n",
       "0  ../datasets/celeba/img_align_celeba_png/000001...                 0   \n",
       "1  ../datasets/celeba/img_align_celeba_png/000002...                 0   \n",
       "2  ../datasets/celeba/img_align_celeba_png/000003...                 0   \n",
       "3  ../datasets/celeba/img_align_celeba_png/000004...                 0   \n",
       "4  ../datasets/celeba/img_align_celeba_png/000005...                 0   \n",
       "\n",
       "   Arched_Eyebrows  Attractive  Bags_Under_Eyes  Bald  Bangs  Big_Lips  \\\n",
       "0                1           1                0     0      0         0   \n",
       "1                0           0                1     0      0         0   \n",
       "2                0           0                0     0      0         1   \n",
       "3                0           1                0     0      0         0   \n",
       "4                1           1                0     0      0         1   \n",
       "\n",
       "   Big_Nose  Black_Hair  ...  Smiling  Straight_Hair  Wavy_Hair  \\\n",
       "0         0           0  ...        1              1          0   \n",
       "1         1           0  ...        1              0          0   \n",
       "2         0           0  ...        0              0          1   \n",
       "3         0           0  ...        0              1          0   \n",
       "4         0           0  ...        0              0          0   \n",
       "\n",
       "   Wearing_Earrings  Wearing_Hat  Wearing_Lipstick  Wearing_Necklace  \\\n",
       "0                 1            0                 1                 0   \n",
       "1                 0            0                 0                 0   \n",
       "2                 0            0                 0                 0   \n",
       "3                 1            0                 1                 1   \n",
       "4                 0            0                 1                 0   \n",
       "\n",
       "   Wearing_Necktie  Young  partition  \n",
       "0                0      1          0  \n",
       "1                0      1          0  \n",
       "2                0      1          0  \n",
       "3                0      1          0  \n",
       "4                0      1          0  \n",
       "\n",
       "[5 rows x 42 columns]"
      ]
     },
     "execution_count": 3,
     "metadata": {},
     "output_type": "execute_result"
    }
   ],
   "source": [
    "img_df = pd.read_csv('../datasets/celeba/attributes/attr_celeba.csv').replace({-1:0})\n",
    "partition_df = pd.read_csv('../datasets/celeba/attributes/list_eval_partition.csv')\n",
    "img_df = img_df.merge(partition_df, on='filename')\n",
    "img_df.loc[:, 'filename'] = img_df.loc[:, 'filename'].apply(lambda x: os.path.join(_image_dir, x))\n",
    "img_df.head()"
   ]
  },
  {
   "cell_type": "code",
   "execution_count": 4,
   "id": "introductory-formula",
   "metadata": {},
   "outputs": [
    {
     "data": {
      "text/plain": [
       "array(['5_o_Clock_Shadow', 'Arched_Eyebrows', 'Attractive',\n",
       "       'Bags_Under_Eyes', 'Bald', 'Bangs', 'Big_Lips', 'Big_Nose',\n",
       "       'Black_Hair', 'Blond_Hair', 'Blurry', 'Brown_Hair',\n",
       "       'Bushy_Eyebrows', 'Chubby', 'Double_Chin', 'Eyeglasses', 'Goatee',\n",
       "       'Gray_Hair', 'Heavy_Makeup', 'High_Cheekbones', 'Male',\n",
       "       'Mouth_Slightly_Open', 'Mustache', 'Narrow_Eyes', 'No_Beard',\n",
       "       'Oval_Face', 'Pale_Skin', 'Pointy_Nose', 'Receding_Hairline',\n",
       "       'Rosy_Cheeks', 'Sideburns', 'Smiling', 'Straight_Hair',\n",
       "       'Wavy_Hair', 'Wearing_Earrings', 'Wearing_Hat', 'Wearing_Lipstick',\n",
       "       'Wearing_Necklace', 'Wearing_Necktie', 'Young'], dtype=object)"
      ]
     },
     "execution_count": 4,
     "metadata": {},
     "output_type": "execute_result"
    }
   ],
   "source": [
    "attributes = np.array(img_df.columns)[1:41]\n",
    "attributes"
   ]
  },
  {
   "cell_type": "code",
   "execution_count": 5,
   "id": "further-table",
   "metadata": {},
   "outputs": [],
   "source": [
    "train_df = img_df.loc[img_df.loc[:, 'partition'] == 0]\n",
    "valid_df = img_df.loc[img_df.loc[:, 'partition'] == 1]\n",
    "test_df = img_df.loc[img_df.loc[:, 'partition'] == 2]"
   ]
  },
  {
   "cell_type": "code",
   "execution_count": 6,
   "id": "precious-smith",
   "metadata": {},
   "outputs": [
    {
     "name": "stdout",
     "output_type": "stream",
     "text": [
      "Found 162770 non-validated image filenames.\n"
     ]
    }
   ],
   "source": [
    "train_datagen =  ImageDataGenerator(\n",
    "#     rotation_range=30,\n",
    "#     width_shift_range=0.2,\n",
    "#     height_shift_range=0.2,\n",
    "#     shear_range=0.2,\n",
    "#     zoom_range=0.2,\n",
    "#     horizontal_flip=True,\n",
    "#     brightness_range=[0.4,1.5],\n",
    "    preprocessing_function=preprocess_input,\n",
    "    rescale=1./255,\n",
    ")\n",
    "\n",
    "train_generator = train_datagen.flow_from_dataframe(\n",
    "    train_df,\n",
    "    batch_size=_batch_size,\n",
    "    x_col='filename', \n",
    "    y_col= attributes,\n",
    "    class_mode='raw',\n",
    "    target_size=(_img_width, _img_height),\n",
    "    validate_filenames=False)"
   ]
  },
  {
   "cell_type": "code",
   "execution_count": 7,
   "id": "recent-cancellation",
   "metadata": {},
   "outputs": [
    {
     "name": "stdout",
     "output_type": "stream",
     "text": [
      "Found 19867 non-validated image filenames.\n"
     ]
    }
   ],
   "source": [
    "valid_datagen =  ImageDataGenerator(\n",
    "    preprocessing_function=preprocess_input,\n",
    "    rescale=1./255\n",
    ")\n",
    "\n",
    "valid_generator = valid_datagen.flow_from_dataframe(\n",
    "    valid_df,\n",
    "    batch_size=_batch_size,\n",
    "    x_col='filename', \n",
    "    y_col=attributes,\n",
    "    class_mode='raw',\n",
    "    target_size=(_img_width, _img_height),\n",
    "    validate_filenames=False)"
   ]
  },
  {
   "cell_type": "code",
   "execution_count": 8,
   "id": "assisted-clothing",
   "metadata": {},
   "outputs": [
    {
     "name": "stdout",
     "output_type": "stream",
     "text": [
      "WARNING:tensorflow:From /home/rbelanec/anaconda3/envs/BP/lib/python3.7/site-packages/tensorflow_core/python/ops/resource_variable_ops.py:1630: calling BaseResourceVariable.__init__ (from tensorflow.python.ops.resource_variable_ops) with constraint is deprecated and will be removed in a future version.\n",
      "Instructions for updating:\n",
      "If using Keras pass *_constraint arguments to layers.\n",
      "number of layers: 87\n"
     ]
    }
   ],
   "source": [
    "base_model = MobileNet(weights='imagenet',\n",
    "                       include_top=False,\n",
    "                       alpha=1, \n",
    "                       depth_multiplier=1,\n",
    "                       dropout=0.001,\n",
    "                       input_tensor=None, \n",
    "                       pooling=None,\n",
    "                       input_shape=(_img_width, _img_height, 3))\n",
    "\n",
    "print(\"number of layers:\", len(base_model.layers))\n",
    "\n",
    "for layer in base_model.layers:\n",
    "    layer.trainable = False"
   ]
  },
  {
   "cell_type": "code",
   "execution_count": 9,
   "id": "printable-breeding",
   "metadata": {},
   "outputs": [],
   "source": [
    "x = base_model.output\n",
    "x = GlobalAveragePooling2D(data_format='channels_last')(x)\n",
    "x = Dense(256, activation=\"relu\")(x)\n",
    "x = Dense(40, activation=\"sigmoid\")(x)"
   ]
  },
  {
   "cell_type": "code",
   "execution_count": 16,
   "id": "mexican-massachusetts",
   "metadata": {},
   "outputs": [],
   "source": [
    "model = keras.models.Model(inputs=base_model.input, outputs=x)\n",
    "model.compile(optimizer='adam', loss='binary_crossentropy', metrics=['accuracy'])"
   ]
  },
  {
   "cell_type": "code",
   "execution_count": 17,
   "id": "running-ordinary",
   "metadata": {},
   "outputs": [],
   "source": [
    "checkpointer = ModelCheckpoint(filepath='mobilenet_allattr.h5', verbose=1, save_best_only=True)"
   ]
  },
  {
   "cell_type": "code",
   "execution_count": 18,
   "id": "cloudy-matthew",
   "metadata": {},
   "outputs": [
    {
     "name": "stdout",
     "output_type": "stream",
     "text": [
      "Epoch 1/50\n",
      "1271/1271 [==============================] - 340s 268ms/step - loss: 0.2819 - accuracy: 0.8752 - val_loss: 0.4764 - val_accuracy: 0.7893\n",
      "\n",
      "Epoch 00001: val_loss improved from inf to 0.47641, saving model to mobilenet_allattr.h5\n",
      "Epoch 2/50\n",
      "1271/1271 [==============================] - 343s 270ms/step - loss: 0.2631 - accuracy: 0.8831 - val_loss: 0.4887 - val_accuracy: 0.7900\n",
      "\n",
      "Epoch 00002: val_loss did not improve from 0.47641\n",
      "Epoch 3/50\n",
      "1271/1271 [==============================] - 329s 259ms/step - loss: 0.2582 - accuracy: 0.8853 - val_loss: 0.4774 - val_accuracy: 0.7893\n",
      "\n",
      "Epoch 00003: val_loss did not improve from 0.47641\n",
      "Epoch 4/50\n",
      "1271/1271 [==============================] - 332s 262ms/step - loss: 0.2549 - accuracy: 0.8869 - val_loss: 0.4665 - val_accuracy: 0.7893\n",
      "\n",
      "Epoch 00004: val_loss improved from 0.47641 to 0.46651, saving model to mobilenet_allattr.h5\n",
      "Epoch 5/50\n",
      "1271/1271 [==============================] - 328s 258ms/step - loss: 0.2526 - accuracy: 0.8879 - val_loss: 0.4664 - val_accuracy: 0.7894\n",
      "\n",
      "Epoch 00005: val_loss improved from 0.46651 to 0.46640, saving model to mobilenet_allattr.h5\n",
      "Epoch 6/50\n",
      "1271/1271 [==============================] - 324s 255ms/step - loss: 0.2507 - accuracy: 0.8887 - val_loss: 0.4938 - val_accuracy: 0.7892\n",
      "\n",
      "Epoch 00006: val_loss did not improve from 0.46640\n",
      "Epoch 7/50\n",
      "1271/1271 [==============================] - 320s 252ms/step - loss: 0.2491 - accuracy: 0.8894 - val_loss: 0.4741 - val_accuracy: 0.7896\n",
      "\n",
      "Epoch 00007: val_loss did not improve from 0.46640\n",
      "Epoch 8/50\n",
      "1271/1271 [==============================] - 330s 259ms/step - loss: 0.2478 - accuracy: 0.8900 - val_loss: 0.5288 - val_accuracy: 0.7891\n",
      "\n",
      "Epoch 00008: val_loss did not improve from 0.46640\n",
      "Epoch 9/50\n",
      "1271/1271 [==============================] - 333s 262ms/step - loss: 0.2465 - accuracy: 0.8907 - val_loss: 0.5470 - val_accuracy: 0.7894\n",
      "\n",
      "Epoch 00009: val_loss did not improve from 0.46640\n",
      "Epoch 10/50\n",
      "1271/1271 [==============================] - 331s 261ms/step - loss: 0.2455 - accuracy: 0.8911 - val_loss: 0.5193 - val_accuracy: 0.7894\n",
      "\n",
      "Epoch 00010: val_loss did not improve from 0.46640\n",
      "Epoch 11/50\n",
      "1271/1271 [==============================] - 322s 254ms/step - loss: 0.2444 - accuracy: 0.8917 - val_loss: 0.5147 - val_accuracy: 0.7893\n",
      "\n",
      "Epoch 00011: val_loss did not improve from 0.46640\n",
      "Epoch 12/50\n",
      "1271/1271 [==============================] - 323s 254ms/step - loss: 0.2436 - accuracy: 0.8920 - val_loss: 0.5609 - val_accuracy: 0.7820\n",
      "\n",
      "Epoch 00012: val_loss did not improve from 0.46640\n",
      "Epoch 13/50\n",
      "1271/1271 [==============================] - 346s 272ms/step - loss: 0.2430 - accuracy: 0.8923 - val_loss: 0.5356 - val_accuracy: 0.7776\n",
      "\n",
      "Epoch 00013: val_loss did not improve from 0.46640\n",
      "Epoch 14/50\n",
      "1271/1271 [==============================] - 332s 261ms/step - loss: 0.2423 - accuracy: 0.8927 - val_loss: 0.5897 - val_accuracy: 0.7897\n",
      "\n",
      "Epoch 00014: val_loss did not improve from 0.46640\n",
      "Epoch 15/50\n",
      "1271/1271 [==============================] - 334s 263ms/step - loss: 0.2416 - accuracy: 0.8929 - val_loss: 0.5842 - val_accuracy: 0.7890\n",
      "\n",
      "Epoch 00015: val_loss did not improve from 0.46640\n",
      "Epoch 16/50\n",
      "1271/1271 [==============================] - 343s 270ms/step - loss: 0.2410 - accuracy: 0.8932 - val_loss: 0.6418 - val_accuracy: 0.7895\n",
      "\n",
      "Epoch 00016: val_loss did not improve from 0.46640\n",
      "Epoch 17/50\n",
      "1271/1271 [==============================] - 332s 261ms/step - loss: 0.2404 - accuracy: 0.8935 - val_loss: 0.6166 - val_accuracy: 0.7891\n",
      "\n",
      "Epoch 00017: val_loss did not improve from 0.46640\n",
      "Epoch 18/50\n",
      "1271/1271 [==============================] - 337s 265ms/step - loss: 0.2399 - accuracy: 0.8937 - val_loss: 0.6446 - val_accuracy: 0.7898\n",
      "\n",
      "Epoch 00018: val_loss did not improve from 0.46640\n",
      "Epoch 19/50\n",
      "1271/1271 [==============================] - 326s 257ms/step - loss: 0.2394 - accuracy: 0.8938 - val_loss: 0.6077 - val_accuracy: 0.7889\n",
      "\n",
      "Epoch 00019: val_loss did not improve from 0.46640\n",
      "Epoch 20/50\n",
      "1271/1271 [==============================] - 329s 259ms/step - loss: 0.2392 - accuracy: 0.8940 - val_loss: 0.6615 - val_accuracy: 0.7895\n",
      "\n",
      "Epoch 00020: val_loss did not improve from 0.46640\n",
      "Epoch 21/50\n",
      "1271/1271 [==============================] - 334s 263ms/step - loss: 0.2385 - accuracy: 0.8943 - val_loss: 0.6333 - val_accuracy: 0.7891\n",
      "\n",
      "Epoch 00021: val_loss did not improve from 0.46640\n",
      "Epoch 22/50\n",
      "1271/1271 [==============================] - 327s 257ms/step - loss: 0.2381 - accuracy: 0.8945 - val_loss: 0.6375 - val_accuracy: 0.7898\n",
      "\n",
      "Epoch 00022: val_loss did not improve from 0.46640\n",
      "Epoch 23/50\n",
      "1271/1271 [==============================] - 338s 266ms/step - loss: 0.2377 - accuracy: 0.8947 - val_loss: 0.7079 - val_accuracy: 0.7891\n",
      "\n",
      "Epoch 00023: val_loss did not improve from 0.46640\n",
      "Epoch 24/50\n",
      "1271/1271 [==============================] - 334s 263ms/step - loss: 0.2376 - accuracy: 0.8948 - val_loss: 0.6561 - val_accuracy: 0.7892\n",
      "\n",
      "Epoch 00024: val_loss did not improve from 0.46640\n",
      "Epoch 25/50\n",
      "1271/1271 [==============================] - 336s 264ms/step - loss: 0.2372 - accuracy: 0.8950 - val_loss: 0.7193 - val_accuracy: 0.7892\n",
      "\n",
      "Epoch 00025: val_loss did not improve from 0.46640\n",
      "Epoch 26/50\n",
      "1271/1271 [==============================] - 331s 261ms/step - loss: 0.2367 - accuracy: 0.8952 - val_loss: 0.7271 - val_accuracy: 0.7893\n",
      "\n",
      "Epoch 00026: val_loss did not improve from 0.46640\n",
      "Epoch 27/50\n",
      "1271/1271 [==============================] - 325s 256ms/step - loss: 0.2364 - accuracy: 0.8953 - val_loss: 0.7369 - val_accuracy: 0.7896\n",
      "\n",
      "Epoch 00027: val_loss did not improve from 0.46640\n",
      "Epoch 28/50\n",
      "1271/1271 [==============================] - 327s 257ms/step - loss: 0.2361 - accuracy: 0.8954 - val_loss: 0.7143 - val_accuracy: 0.7892\n",
      "\n",
      "Epoch 00028: val_loss did not improve from 0.46640\n",
      "Epoch 29/50\n",
      "1271/1271 [==============================] - 333s 262ms/step - loss: 0.2357 - accuracy: 0.8956 - val_loss: 0.7756 - val_accuracy: 0.7894\n",
      "\n",
      "Epoch 00029: val_loss did not improve from 0.46640\n",
      "Epoch 30/50\n",
      "1271/1271 [==============================] - 326s 257ms/step - loss: 0.2356 - accuracy: 0.8957 - val_loss: 0.7437 - val_accuracy: 0.7889\n",
      "\n",
      "Epoch 00030: val_loss did not improve from 0.46640\n",
      "Epoch 31/50\n",
      "1271/1271 [==============================] - 327s 257ms/step - loss: 0.2353 - accuracy: 0.8958 - val_loss: 0.7456 - val_accuracy: 0.7898\n",
      "\n",
      "Epoch 00031: val_loss did not improve from 0.46640\n",
      "Epoch 32/50\n",
      "1271/1271 [==============================] - 327s 257ms/step - loss: 0.2353 - accuracy: 0.8958 - val_loss: 0.7741 - val_accuracy: 0.7895\n",
      "\n",
      "Epoch 00032: val_loss did not improve from 0.46640\n",
      "Epoch 33/50\n",
      "1271/1271 [==============================] - 320s 251ms/step - loss: 0.2349 - accuracy: 0.8961 - val_loss: 0.7431 - val_accuracy: 0.7890\n",
      "\n",
      "Epoch 00033: val_loss did not improve from 0.46640\n",
      "Epoch 34/50\n",
      "1271/1271 [==============================] - 327s 257ms/step - loss: 0.2347 - accuracy: 0.8961 - val_loss: 0.8048 - val_accuracy: 0.7897\n",
      "\n",
      "Epoch 00034: val_loss did not improve from 0.46640\n",
      "Epoch 35/50\n",
      "1271/1271 [==============================] - 320s 252ms/step - loss: 0.2344 - accuracy: 0.8963 - val_loss: 0.8017 - val_accuracy: 0.7890\n",
      "\n",
      "Epoch 00035: val_loss did not improve from 0.46640\n",
      "Epoch 36/50\n",
      "1271/1271 [==============================] - 317s 249ms/step - loss: 0.2344 - accuracy: 0.8962 - val_loss: 0.7151 - val_accuracy: 0.7896\n",
      "\n",
      "Epoch 00036: val_loss did not improve from 0.46640\n",
      "Epoch 37/50\n",
      "1271/1271 [==============================] - 319s 251ms/step - loss: 0.2339 - accuracy: 0.8965 - val_loss: 0.7589 - val_accuracy: 0.7895\n",
      "\n",
      "Epoch 00037: val_loss did not improve from 0.46640\n",
      "Epoch 38/50\n",
      "1271/1271 [==============================] - 322s 254ms/step - loss: 0.2340 - accuracy: 0.8964 - val_loss: 0.7684 - val_accuracy: 0.7890\n",
      "\n",
      "Epoch 00038: val_loss did not improve from 0.46640\n",
      "Epoch 39/50\n",
      "1271/1271 [==============================] - 320s 252ms/step - loss: 0.2337 - accuracy: 0.8966 - val_loss: 0.7621 - val_accuracy: 0.7896\n",
      "\n",
      "Epoch 00039: val_loss did not improve from 0.46640\n",
      "Epoch 40/50\n",
      "1271/1271 [==============================] - 318s 250ms/step - loss: 0.2334 - accuracy: 0.8967 - val_loss: 0.7314 - val_accuracy: 0.7893\n",
      "\n",
      "Epoch 00040: val_loss did not improve from 0.46640\n",
      "Epoch 41/50\n"
     ]
    },
    {
     "name": "stdout",
     "output_type": "stream",
     "text": [
      "1271/1271 [==============================] - 321s 252ms/step - loss: 0.2335 - accuracy: 0.8967 - val_loss: 0.7014 - val_accuracy: 0.7896\n",
      "\n",
      "Epoch 00041: val_loss did not improve from 0.46640\n",
      "Epoch 42/50\n",
      "1271/1271 [==============================] - 333s 262ms/step - loss: 0.2331 - accuracy: 0.8969 - val_loss: 0.7390 - val_accuracy: 0.7893\n",
      "\n",
      "Epoch 00042: val_loss did not improve from 0.46640\n",
      "Epoch 43/50\n",
      "1271/1271 [==============================] - 317s 250ms/step - loss: 0.2330 - accuracy: 0.8969 - val_loss: 0.6851 - val_accuracy: 0.7893\n",
      "\n",
      "Epoch 00043: val_loss did not improve from 0.46640\n",
      "Epoch 44/50\n",
      "1271/1271 [==============================] - 317s 249ms/step - loss: 0.2329 - accuracy: 0.8970 - val_loss: 0.6746 - val_accuracy: 0.7890\n",
      "\n",
      "Epoch 00044: val_loss did not improve from 0.46640\n",
      "Epoch 45/50\n",
      "1271/1271 [==============================] - 327s 257ms/step - loss: 0.2327 - accuracy: 0.8971 - val_loss: 0.6900 - val_accuracy: 0.7904\n",
      "\n",
      "Epoch 00045: val_loss did not improve from 0.46640\n",
      "Epoch 46/50\n",
      "1271/1271 [==============================] - 326s 257ms/step - loss: 0.2326 - accuracy: 0.8971 - val_loss: 0.6848 - val_accuracy: 0.7905\n",
      "\n",
      "Epoch 00046: val_loss did not improve from 0.46640\n",
      "Epoch 47/50\n",
      "1271/1271 [==============================] - 345s 272ms/step - loss: 0.2324 - accuracy: 0.8972 - val_loss: 0.7553 - val_accuracy: 0.8053\n",
      "\n",
      "Epoch 00047: val_loss did not improve from 0.46640\n",
      "Epoch 48/50\n",
      "1271/1271 [==============================] - 341s 268ms/step - loss: 0.2324 - accuracy: 0.8972 - val_loss: 0.6948 - val_accuracy: 0.7888\n",
      "\n",
      "Epoch 00048: val_loss did not improve from 0.46640\n",
      "Epoch 49/50\n",
      "1271/1271 [==============================] - 336s 265ms/step - loss: 0.2322 - accuracy: 0.8972 - val_loss: 0.6863 - val_accuracy: 0.7885\n",
      "\n",
      "Epoch 00049: val_loss did not improve from 0.46640\n",
      "Epoch 50/50\n",
      "1271/1271 [==============================] - 355s 279ms/step - loss: 0.2321 - accuracy: 0.8973 - val_loss: 0.6293 - val_accuracy: 0.7897\n",
      "\n",
      "Epoch 00050: val_loss did not improve from 0.46640\n"
     ]
    }
   ],
   "source": [
    "hist = model.fit_generator(train_generator,\n",
    "                            validation_data = valid_generator,\n",
    "                            steps_per_epoch= len(train_df)//_batch_size,\n",
    "                            validation_steps=len(valid_df) // _batch_size,\n",
    "                            epochs= _num_epochs,\n",
    "                            callbacks=[checkpointer],\n",
    "                            verbose=1,\n",
    "                           )"
   ]
  },
  {
   "cell_type": "code",
   "execution_count": 19,
   "id": "acknowledged-arrow",
   "metadata": {},
   "outputs": [
    {
     "data": {
      "image/png": "[encoded data removed]",
      "text/plain": [
       "<Figure size 1296x288 with 1 Axes>"
      ]
     },
     "metadata": {
      "needs_background": "light"
     },
     "output_type": "display_data"
    }
   ],
   "source": [
    "plt.figure(figsize=(18, 4))\n",
    "plt.plot(hist.history['loss'], label = 'train')\n",
    "plt.plot(hist.history['val_loss'], label = 'valid')\n",
    "plt.legend()\n",
    "plt.title('Loss Function')\n",
    "plt.show()"
   ]
  },
  {
   "cell_type": "code",
   "execution_count": 20,
   "id": "random-postage",
   "metadata": {},
   "outputs": [
    {
     "data": {
      "image/png": "[encoded data removed]",
      "text/plain": [
       "<Figure size 1296x288 with 1 Axes>"
      ]
     },
     "metadata": {
      "needs_background": "light"
     },
     "output_type": "display_data"
    }
   ],
   "source": [
    "plt.figure(figsize=(18, 4))\n",
    "plt.plot(hist.history['accuracy'], label = 'train')\n",
    "plt.plot(hist.history['val_accuracy'], label = 'valid')\n",
    "plt.legend()\n",
    "plt.title('Accuracy')\n",
    "plt.show()"
   ]
  },
  {
   "cell_type": "code",
   "execution_count": 22,
   "id": "optical-weight",
   "metadata": {},
   "outputs": [
    {
     "name": "stdout",
     "output_type": "stream",
     "text": [
      "Found 19962 non-validated image filenames.\n"
     ]
    }
   ],
   "source": [
    "test_datagen =  ImageDataGenerator(\n",
    "    preprocessing_function=preprocess_input,\n",
    "    rescale=1./255,\n",
    ")\n",
    "\n",
    "test_generator = test_datagen.flow_from_dataframe(\n",
    "    test_df,\n",
    "    batch_size=1,\n",
    "    x_col='filename', \n",
    "    y_col=attributes,\n",
    "    class_mode='raw',\n",
    "    target_size=(_img_width, _img_height),\n",
    "    validate_filenames=False,\n",
    "    shuffle=False)"
   ]
  },
  {
   "cell_type": "code",
   "execution_count": 23,
   "id": "quality-habitat",
   "metadata": {},
   "outputs": [],
   "source": [
    "model.load_weights('mobilenet_allattr.h5')\n",
    "model_predictions = model.predict(test_generator)"
   ]
  },
  {
   "cell_type": "code",
   "execution_count": 24,
   "id": "innovative-melbourne",
   "metadata": {},
   "outputs": [],
   "source": [
    "preds = np.array(model_predictions > 0.5).astype(int)"
   ]
  },
  {
   "cell_type": "code",
   "execution_count": 31,
   "id": "diverse-living",
   "metadata": {},
   "outputs": [
    {
     "data": {
      "text/plain": [
       "0.0050095180843602845"
      ]
     },
     "execution_count": 31,
     "metadata": {},
     "output_type": "execute_result"
    }
   ],
   "source": [
    "test_accuracy = 100 * accuracy_score(preds, test_df.loc[:, attributes].values)\n",
    "test_accuracy"
   ]
  },
  {
   "cell_type": "code",
   "execution_count": 32,
   "id": "undefined-jonathan",
   "metadata": {},
   "outputs": [
    {
     "ename": "ValueError",
     "evalue": "Classification metrics can't handle a mix of binary and multilabel-indicator targets",
     "output_type": "error",
     "traceback": [
      "\u001b[0;31m---------------------------------------------------------------------------\u001b[0m",
      "\u001b[0;31mValueError\u001b[0m                                Traceback (most recent call last)",
      "\u001b[0;32m<ipython-input-32-02d6ca190e91>\u001b[0m in \u001b[0;36m<module>\u001b[0;34m\u001b[0m\n\u001b[0;32m----> 1\u001b[0;31m \u001b[0mf1\u001b[0m \u001b[0;34m=\u001b[0m \u001b[0mf1_score\u001b[0m\u001b[0;34m(\u001b[0m\u001b[0mtest_df\u001b[0m\u001b[0;34m.\u001b[0m\u001b[0mloc\u001b[0m\u001b[0;34m[\u001b[0m\u001b[0;34m:\u001b[0m\u001b[0;34m,\u001b[0m  \u001b[0;34m[\u001b[0m\u001b[0;34m'Eyeglasses'\u001b[0m\u001b[0;34m]\u001b[0m\u001b[0;34m]\u001b[0m\u001b[0;34m.\u001b[0m\u001b[0mvalues\u001b[0m\u001b[0;34m,\u001b[0m \u001b[0mpreds\u001b[0m\u001b[0;34m)\u001b[0m\u001b[0;34m\u001b[0m\u001b[0;34m\u001b[0m\u001b[0m\n\u001b[0m\u001b[1;32m      2\u001b[0m \u001b[0mf1\u001b[0m\u001b[0;34m\u001b[0m\u001b[0;34m\u001b[0m\u001b[0m\n",
      "\u001b[0;32m~/anaconda3/envs/BP/lib/python3.7/site-packages/sklearn/utils/validation.py\u001b[0m in \u001b[0;36minner_f\u001b[0;34m(*args, **kwargs)\u001b[0m\n\u001b[1;32m     61\u001b[0m             \u001b[0mextra_args\u001b[0m \u001b[0;34m=\u001b[0m \u001b[0mlen\u001b[0m\u001b[0;34m(\u001b[0m\u001b[0margs\u001b[0m\u001b[0;34m)\u001b[0m \u001b[0;34m-\u001b[0m \u001b[0mlen\u001b[0m\u001b[0;34m(\u001b[0m\u001b[0mall_args\u001b[0m\u001b[0;34m)\u001b[0m\u001b[0;34m\u001b[0m\u001b[0;34m\u001b[0m\u001b[0m\n\u001b[1;32m     62\u001b[0m             \u001b[0;32mif\u001b[0m \u001b[0mextra_args\u001b[0m \u001b[0;34m<=\u001b[0m \u001b[0;36m0\u001b[0m\u001b[0;34m:\u001b[0m\u001b[0;34m\u001b[0m\u001b[0;34m\u001b[0m\u001b[0m\n\u001b[0;32m---> 63\u001b[0;31m                 \u001b[0;32mreturn\u001b[0m \u001b[0mf\u001b[0m\u001b[0;34m(\u001b[0m\u001b[0;34m*\u001b[0m\u001b[0margs\u001b[0m\u001b[0;34m,\u001b[0m \u001b[0;34m**\u001b[0m\u001b[0mkwargs\u001b[0m\u001b[0;34m)\u001b[0m\u001b[0;34m\u001b[0m\u001b[0;34m\u001b[0m\u001b[0m\n\u001b[0m\u001b[1;32m     64\u001b[0m \u001b[0;34m\u001b[0m\u001b[0m\n\u001b[1;32m     65\u001b[0m             \u001b[0;31m# extra_args > 0\u001b[0m\u001b[0;34m\u001b[0m\u001b[0;34m\u001b[0m\u001b[0;34m\u001b[0m\u001b[0m\n",
      "\u001b[0;32m~/anaconda3/envs/BP/lib/python3.7/site-packages/sklearn/metrics/_classification.py\u001b[0m in \u001b[0;36mf1_score\u001b[0;34m(y_true, y_pred, labels, pos_label, average, sample_weight, zero_division)\u001b[0m\n\u001b[1;32m   1069\u001b[0m                        \u001b[0mpos_label\u001b[0m\u001b[0;34m=\u001b[0m\u001b[0mpos_label\u001b[0m\u001b[0;34m,\u001b[0m \u001b[0maverage\u001b[0m\u001b[0;34m=\u001b[0m\u001b[0maverage\u001b[0m\u001b[0;34m,\u001b[0m\u001b[0;34m\u001b[0m\u001b[0;34m\u001b[0m\u001b[0m\n\u001b[1;32m   1070\u001b[0m                        \u001b[0msample_weight\u001b[0m\u001b[0;34m=\u001b[0m\u001b[0msample_weight\u001b[0m\u001b[0;34m,\u001b[0m\u001b[0;34m\u001b[0m\u001b[0;34m\u001b[0m\u001b[0m\n\u001b[0;32m-> 1071\u001b[0;31m                        zero_division=zero_division)\n\u001b[0m\u001b[1;32m   1072\u001b[0m \u001b[0;34m\u001b[0m\u001b[0m\n\u001b[1;32m   1073\u001b[0m \u001b[0;34m\u001b[0m\u001b[0m\n",
      "\u001b[0;32m~/anaconda3/envs/BP/lib/python3.7/site-packages/sklearn/utils/validation.py\u001b[0m in \u001b[0;36minner_f\u001b[0;34m(*args, **kwargs)\u001b[0m\n\u001b[1;32m     61\u001b[0m             \u001b[0mextra_args\u001b[0m \u001b[0;34m=\u001b[0m \u001b[0mlen\u001b[0m\u001b[0;34m(\u001b[0m\u001b[0margs\u001b[0m\u001b[0;34m)\u001b[0m \u001b[0;34m-\u001b[0m \u001b[0mlen\u001b[0m\u001b[0;34m(\u001b[0m\u001b[0mall_args\u001b[0m\u001b[0;34m)\u001b[0m\u001b[0;34m\u001b[0m\u001b[0;34m\u001b[0m\u001b[0m\n\u001b[1;32m     62\u001b[0m             \u001b[0;32mif\u001b[0m \u001b[0mextra_args\u001b[0m \u001b[0;34m<=\u001b[0m \u001b[0;36m0\u001b[0m\u001b[0;34m:\u001b[0m\u001b[0;34m\u001b[0m\u001b[0;34m\u001b[0m\u001b[0m\n\u001b[0;32m---> 63\u001b[0;31m                 \u001b[0;32mreturn\u001b[0m \u001b[0mf\u001b[0m\u001b[0;34m(\u001b[0m\u001b[0;34m*\u001b[0m\u001b[0margs\u001b[0m\u001b[0;34m,\u001b[0m \u001b[0;34m**\u001b[0m\u001b[0mkwargs\u001b[0m\u001b[0;34m)\u001b[0m\u001b[0;34m\u001b[0m\u001b[0;34m\u001b[0m\u001b[0m\n\u001b[0m\u001b[1;32m     64\u001b[0m \u001b[0;34m\u001b[0m\u001b[0m\n\u001b[1;32m     65\u001b[0m             \u001b[0;31m# extra_args > 0\u001b[0m\u001b[0;34m\u001b[0m\u001b[0;34m\u001b[0m\u001b[0;34m\u001b[0m\u001b[0m\n",
      "\u001b[0;32m~/anaconda3/envs/BP/lib/python3.7/site-packages/sklearn/metrics/_classification.py\u001b[0m in \u001b[0;36mfbeta_score\u001b[0;34m(y_true, y_pred, beta, labels, pos_label, average, sample_weight, zero_division)\u001b[0m\n\u001b[1;32m   1197\u001b[0m                                                  \u001b[0mwarn_for\u001b[0m\u001b[0;34m=\u001b[0m\u001b[0;34m(\u001b[0m\u001b[0;34m'f-score'\u001b[0m\u001b[0;34m,\u001b[0m\u001b[0;34m)\u001b[0m\u001b[0;34m,\u001b[0m\u001b[0;34m\u001b[0m\u001b[0;34m\u001b[0m\u001b[0m\n\u001b[1;32m   1198\u001b[0m                                                  \u001b[0msample_weight\u001b[0m\u001b[0;34m=\u001b[0m\u001b[0msample_weight\u001b[0m\u001b[0;34m,\u001b[0m\u001b[0;34m\u001b[0m\u001b[0;34m\u001b[0m\u001b[0m\n\u001b[0;32m-> 1199\u001b[0;31m                                                  zero_division=zero_division)\n\u001b[0m\u001b[1;32m   1200\u001b[0m     \u001b[0;32mreturn\u001b[0m \u001b[0mf\u001b[0m\u001b[0;34m\u001b[0m\u001b[0;34m\u001b[0m\u001b[0m\n\u001b[1;32m   1201\u001b[0m \u001b[0;34m\u001b[0m\u001b[0m\n",
      "\u001b[0;32m~/anaconda3/envs/BP/lib/python3.7/site-packages/sklearn/utils/validation.py\u001b[0m in \u001b[0;36minner_f\u001b[0;34m(*args, **kwargs)\u001b[0m\n\u001b[1;32m     61\u001b[0m             \u001b[0mextra_args\u001b[0m \u001b[0;34m=\u001b[0m \u001b[0mlen\u001b[0m\u001b[0;34m(\u001b[0m\u001b[0margs\u001b[0m\u001b[0;34m)\u001b[0m \u001b[0;34m-\u001b[0m \u001b[0mlen\u001b[0m\u001b[0;34m(\u001b[0m\u001b[0mall_args\u001b[0m\u001b[0;34m)\u001b[0m\u001b[0;34m\u001b[0m\u001b[0;34m\u001b[0m\u001b[0m\n\u001b[1;32m     62\u001b[0m             \u001b[0;32mif\u001b[0m \u001b[0mextra_args\u001b[0m \u001b[0;34m<=\u001b[0m \u001b[0;36m0\u001b[0m\u001b[0;34m:\u001b[0m\u001b[0;34m\u001b[0m\u001b[0;34m\u001b[0m\u001b[0m\n\u001b[0;32m---> 63\u001b[0;31m                 \u001b[0;32mreturn\u001b[0m \u001b[0mf\u001b[0m\u001b[0;34m(\u001b[0m\u001b[0;34m*\u001b[0m\u001b[0margs\u001b[0m\u001b[0;34m,\u001b[0m \u001b[0;34m**\u001b[0m\u001b[0mkwargs\u001b[0m\u001b[0;34m)\u001b[0m\u001b[0;34m\u001b[0m\u001b[0;34m\u001b[0m\u001b[0m\n\u001b[0m\u001b[1;32m     64\u001b[0m \u001b[0;34m\u001b[0m\u001b[0m\n\u001b[1;32m     65\u001b[0m             \u001b[0;31m# extra_args > 0\u001b[0m\u001b[0;34m\u001b[0m\u001b[0;34m\u001b[0m\u001b[0;34m\u001b[0m\u001b[0m\n",
      "\u001b[0;32m~/anaconda3/envs/BP/lib/python3.7/site-packages/sklearn/metrics/_classification.py\u001b[0m in \u001b[0;36mprecision_recall_fscore_support\u001b[0;34m(y_true, y_pred, beta, labels, pos_label, average, warn_for, sample_weight, zero_division)\u001b[0m\n\u001b[1;32m   1460\u001b[0m         \u001b[0;32mraise\u001b[0m \u001b[0mValueError\u001b[0m\u001b[0;34m(\u001b[0m\u001b[0;34m\"beta should be >=0 in the F-beta score\"\u001b[0m\u001b[0;34m)\u001b[0m\u001b[0;34m\u001b[0m\u001b[0;34m\u001b[0m\u001b[0m\n\u001b[1;32m   1461\u001b[0m     labels = _check_set_wise_labels(y_true, y_pred, average, labels,\n\u001b[0;32m-> 1462\u001b[0;31m                                     pos_label)\n\u001b[0m\u001b[1;32m   1463\u001b[0m \u001b[0;34m\u001b[0m\u001b[0m\n\u001b[1;32m   1464\u001b[0m     \u001b[0;31m# Calculate tp_sum, pred_sum, true_sum ###\u001b[0m\u001b[0;34m\u001b[0m\u001b[0;34m\u001b[0m\u001b[0;34m\u001b[0m\u001b[0m\n",
      "\u001b[0;32m~/anaconda3/envs/BP/lib/python3.7/site-packages/sklearn/metrics/_classification.py\u001b[0m in \u001b[0;36m_check_set_wise_labels\u001b[0;34m(y_true, y_pred, average, labels, pos_label)\u001b[0m\n\u001b[1;32m   1272\u001b[0m                          str(average_options))\n\u001b[1;32m   1273\u001b[0m \u001b[0;34m\u001b[0m\u001b[0m\n\u001b[0;32m-> 1274\u001b[0;31m     \u001b[0my_type\u001b[0m\u001b[0;34m,\u001b[0m \u001b[0my_true\u001b[0m\u001b[0;34m,\u001b[0m \u001b[0my_pred\u001b[0m \u001b[0;34m=\u001b[0m \u001b[0m_check_targets\u001b[0m\u001b[0;34m(\u001b[0m\u001b[0my_true\u001b[0m\u001b[0;34m,\u001b[0m \u001b[0my_pred\u001b[0m\u001b[0;34m)\u001b[0m\u001b[0;34m\u001b[0m\u001b[0;34m\u001b[0m\u001b[0m\n\u001b[0m\u001b[1;32m   1275\u001b[0m     \u001b[0;31m# Convert to Python primitive type to avoid NumPy type / Python str\u001b[0m\u001b[0;34m\u001b[0m\u001b[0;34m\u001b[0m\u001b[0;34m\u001b[0m\u001b[0m\n\u001b[1;32m   1276\u001b[0m     \u001b[0;31m# comparison. See https://github.com/numpy/numpy/issues/6784\u001b[0m\u001b[0;34m\u001b[0m\u001b[0;34m\u001b[0m\u001b[0;34m\u001b[0m\u001b[0m\n",
      "\u001b[0;32m~/anaconda3/envs/BP/lib/python3.7/site-packages/sklearn/metrics/_classification.py\u001b[0m in \u001b[0;36m_check_targets\u001b[0;34m(y_true, y_pred)\u001b[0m\n\u001b[1;32m     91\u001b[0m     \u001b[0;32mif\u001b[0m \u001b[0mlen\u001b[0m\u001b[0;34m(\u001b[0m\u001b[0my_type\u001b[0m\u001b[0;34m)\u001b[0m \u001b[0;34m>\u001b[0m \u001b[0;36m1\u001b[0m\u001b[0;34m:\u001b[0m\u001b[0;34m\u001b[0m\u001b[0;34m\u001b[0m\u001b[0m\n\u001b[1;32m     92\u001b[0m         raise ValueError(\"Classification metrics can't handle a mix of {0} \"\n\u001b[0;32m---> 93\u001b[0;31m                          \"and {1} targets\".format(type_true, type_pred))\n\u001b[0m\u001b[1;32m     94\u001b[0m \u001b[0;34m\u001b[0m\u001b[0m\n\u001b[1;32m     95\u001b[0m     \u001b[0;31m# We can't have more than one value on y_type => The set is no more needed\u001b[0m\u001b[0;34m\u001b[0m\u001b[0;34m\u001b[0m\u001b[0;34m\u001b[0m\u001b[0m\n",
      "\u001b[0;31mValueError\u001b[0m: Classification metrics can't handle a mix of binary and multilabel-indicator targets"
     ]
    }
   ],
   "source": []
  },
  {
   "cell_type": "code",
   "execution_count": null,
   "id": "regulation-albert",
   "metadata": {},
   "outputs": [],
   "source": []
  }
 ],
 "metadata": {
  "kernelspec": {
   "display_name": "Python 3",
   "language": "python",
   "name": "python3"
  },
  "language_info": {
   "codemirror_mode": {
    "name": "ipython",
    "version": 3
   },
   "file_extension": ".py",
   "mimetype": "text/x-python",
   "name": "python",
   "nbconvert_exporter": "python",
   "pygments_lexer": "ipython3",
   "version": "3.7.9"
  }
 },
 "nbformat": 4,
 "nbformat_minor": 5
}
