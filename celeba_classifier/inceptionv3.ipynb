{
 "cells": [
  {
   "cell_type": "code",
   "execution_count": 28,
   "id": "intellectual-world",
   "metadata": {},
   "outputs": [],
   "source": [
    "import os\n",
    "import pandas as pd\n",
    "import numpy as np\n",
    "import matplotlib.pyplot as plt\n",
    "\n",
    "import keras\n",
    "from keras.models import Sequential, Model \n",
    "from keras.layers import Dropout, Flatten, Dense, GlobalAveragePooling2D\n",
    "from keras.preprocessing.image import ImageDataGenerator\n",
    "from keras.applications.inception_v3 import InceptionV3, preprocess_input\n",
    "from keras.callbacks import ModelCheckpoint\n",
    "\n",
    "from sklearn.metrics import f1_score\n",
    "from sklearn.metrics import accuracy_score"
   ]
  },
  {
   "cell_type": "code",
   "execution_count": 29,
   "id": "vietnamese-situation",
   "metadata": {},
   "outputs": [],
   "source": [
    "_image_dir = '../datasets/celeba/img_align_celeba_png/'\n",
    "_img_width = 178\n",
    "_img_height = 218\n",
    "_batch_size = 16\n",
    "_num_epochs = 20"
   ]
  },
  {
   "cell_type": "code",
   "execution_count": 30,
   "id": "joint-vegetarian",
   "metadata": {},
   "outputs": [
    {
     "data": {
      "text/html": [
       "<div>\n",
       "<style scoped>\n",
       "    .dataframe tbody tr th:only-of-type {\n",
       "        vertical-align: middle;\n",
       "    }\n",
       "\n",
       "    .dataframe tbody tr th {\n",
       "        vertical-align: top;\n",
       "    }\n",
       "\n",
       "    .dataframe thead th {\n",
       "        text-align: right;\n",
       "    }\n",
       "</style>\n",
       "<table border=\"1\" class=\"dataframe\">\n",
       "  <thead>\n",
       "    <tr style=\"text-align: right;\">\n",
       "      <th></th>\n",
       "      <th>filename</th>\n",
       "      <th>Eyeglasses</th>\n",
       "      <th>Smiling</th>\n",
       "      <th>Male</th>\n",
       "      <th>No_Beard</th>\n",
       "      <th>Young</th>\n",
       "      <th>partition</th>\n",
       "    </tr>\n",
       "  </thead>\n",
       "  <tbody>\n",
       "    <tr>\n",
       "      <th>0</th>\n",
       "      <td>../datasets/celeba/img_align_celeba_png/000001...</td>\n",
       "      <td>0</td>\n",
       "      <td>1</td>\n",
       "      <td>0</td>\n",
       "      <td>1</td>\n",
       "      <td>1</td>\n",
       "      <td>0</td>\n",
       "    </tr>\n",
       "    <tr>\n",
       "      <th>1</th>\n",
       "      <td>../datasets/celeba/img_align_celeba_png/000002...</td>\n",
       "      <td>0</td>\n",
       "      <td>1</td>\n",
       "      <td>0</td>\n",
       "      <td>1</td>\n",
       "      <td>1</td>\n",
       "      <td>0</td>\n",
       "    </tr>\n",
       "    <tr>\n",
       "      <th>2</th>\n",
       "      <td>../datasets/celeba/img_align_celeba_png/000003...</td>\n",
       "      <td>0</td>\n",
       "      <td>0</td>\n",
       "      <td>1</td>\n",
       "      <td>1</td>\n",
       "      <td>1</td>\n",
       "      <td>0</td>\n",
       "    </tr>\n",
       "    <tr>\n",
       "      <th>3</th>\n",
       "      <td>../datasets/celeba/img_align_celeba_png/000004...</td>\n",
       "      <td>0</td>\n",
       "      <td>0</td>\n",
       "      <td>0</td>\n",
       "      <td>1</td>\n",
       "      <td>1</td>\n",
       "      <td>0</td>\n",
       "    </tr>\n",
       "    <tr>\n",
       "      <th>4</th>\n",
       "      <td>../datasets/celeba/img_align_celeba_png/000005...</td>\n",
       "      <td>0</td>\n",
       "      <td>0</td>\n",
       "      <td>0</td>\n",
       "      <td>1</td>\n",
       "      <td>1</td>\n",
       "      <td>0</td>\n",
       "    </tr>\n",
       "  </tbody>\n",
       "</table>\n",
       "</div>"
      ],
      "text/plain": [
       "                                            filename  Eyeglasses  Smiling  \\\n",
       "0  ../datasets/celeba/img_align_celeba_png/000001...           0        1   \n",
       "1  ../datasets/celeba/img_align_celeba_png/000002...           0        1   \n",
       "2  ../datasets/celeba/img_align_celeba_png/000003...           0        0   \n",
       "3  ../datasets/celeba/img_align_celeba_png/000004...           0        0   \n",
       "4  ../datasets/celeba/img_align_celeba_png/000005...           0        0   \n",
       "\n",
       "   Male  No_Beard  Young  partition  \n",
       "0     0         1      1          0  \n",
       "1     0         1      1          0  \n",
       "2     1         1      1          0  \n",
       "3     0         1      1          0  \n",
       "4     0         1      1          0  "
      ]
     },
     "execution_count": 30,
     "metadata": {},
     "output_type": "execute_result"
    }
   ],
   "source": [
    "img_df = pd.read_csv('../datasets/celeba/attributes/attr_celeba.csv').replace({-1:0})[['filename', 'Eyeglasses', 'Smiling', 'Male', 'No_Beard', 'Young']]\n",
    "partition_df = pd.read_csv('../datasets/celeba/attributes/list_eval_partition.csv')\n",
    "img_df = img_df.merge(partition_df, on='filename')\n",
    "img_df.loc[:, 'filename'] = img_df.loc[:, 'filename'].apply(lambda x: os.path.join(_image_dir, x))\n",
    "img_df.head()"
   ]
  },
  {
   "cell_type": "code",
   "execution_count": 31,
   "id": "requested-frequency",
   "metadata": {},
   "outputs": [],
   "source": [
    "train_df = img_df.loc[img_df.loc[:, 'partition'] == 0, ['filename', 'Eyeglasses', 'Smiling', 'Male', 'No_Beard', 'Young']]\n",
    "valid_df = img_df.loc[img_df.loc[:, 'partition'] == 1, ['filename', 'Eyeglasses', 'Smiling', 'Male', 'No_Beard', 'Young']]\n",
    "test_df = img_df.loc[img_df.loc[:, 'partition'] == 2, ['filename', 'Eyeglasses', 'Smiling', 'Male', 'No_Beard', 'Young',]]"
   ]
  },
  {
   "cell_type": "code",
   "execution_count": 32,
   "id": "threatened-capitol",
   "metadata": {},
   "outputs": [
    {
     "name": "stdout",
     "output_type": "stream",
     "text": [
      "Found 162770 non-validated image filenames.\n"
     ]
    }
   ],
   "source": [
    "train_datagen =  ImageDataGenerator(\n",
    "#     rotation_range=30,\n",
    "#     width_shift_range=0.2,\n",
    "#     height_shift_range=0.2,\n",
    "#     shear_range=0.2,\n",
    "#     zoom_range=0.2,\n",
    "#     horizontal_flip=True,\n",
    "#     brightness_range=[0.4,1.5],\n",
    "    preprocessing_function=preprocess_input,\n",
    "    rescale=1./255,\n",
    ")\n",
    "\n",
    "train_generator = train_datagen.flow_from_dataframe(\n",
    "    train_df,\n",
    "    batch_size=_batch_size,\n",
    "    x_col='filename', \n",
    "    y_col= ['Eyeglasses', 'Smiling', 'Male', 'No_Beard', 'Young'],\n",
    "    class_mode='raw',\n",
    "    target_size=(_img_width, _img_height),\n",
    "    validate_filenames=False)"
   ]
  },
  {
   "cell_type": "code",
   "execution_count": 33,
   "id": "impressive-honor",
   "metadata": {},
   "outputs": [
    {
     "name": "stdout",
     "output_type": "stream",
     "text": [
      "Found 19867 non-validated image filenames.\n"
     ]
    }
   ],
   "source": [
    "valid_datagen =  ImageDataGenerator(\n",
    "    preprocessing_function=preprocess_input,\n",
    "    rescale=1./255\n",
    ")\n",
    "\n",
    "valid_generator = valid_datagen.flow_from_dataframe(\n",
    "    valid_df,\n",
    "    batch_size=_batch_size,\n",
    "    x_col='filename', \n",
    "    y_col=['Eyeglasses', 'Smiling', 'Male', 'No_Beard', 'Young'],\n",
    "    class_mode='raw',\n",
    "    target_size=(_img_width, _img_height),\n",
    "    validate_filenames=False)"
   ]
  },
  {
   "cell_type": "code",
   "execution_count": 34,
   "id": "working-bearing",
   "metadata": {},
   "outputs": [
    {
     "name": "stdout",
     "output_type": "stream",
     "text": [
      "number of layers: 311\n"
     ]
    }
   ],
   "source": [
    "base_model = InceptionV3(weights='imagenet',\n",
    "                        include_top=False,\n",
    "                        input_shape=(_img_width, _img_height, 3))\n",
    "\n",
    "print(\"number of layers:\", len(base_model.layers))\n",
    "\n",
    "for layer in base_model.layers:\n",
    "    layer.trainable = False"
   ]
  },
  {
   "cell_type": "code",
   "execution_count": 35,
   "id": "collectible-delhi",
   "metadata": {},
   "outputs": [],
   "source": [
    "x = base_model.output\n",
    "x = GlobalAveragePooling2D()(x)\n",
    "x = Dropout(0.25)(x)\n",
    "x = Dense(1024, activation=\"relu\")(x)\n",
    "x = Dropout(0.5)(x)\n",
    "x = Dense(512, activation=\"relu\")(x)\n",
    "predictions = Dense(5, activation=\"sigmoid\")(x)"
   ]
  },
  {
   "cell_type": "code",
   "execution_count": 36,
   "id": "considerable-klein",
   "metadata": {},
   "outputs": [],
   "source": [
    "model = Model(inputs=base_model.input, outputs=predictions)\n",
    "model.compile(optimizer='adam', loss='binary_crossentropy', metrics=['accuracy'])"
   ]
  },
  {
   "cell_type": "code",
   "execution_count": 37,
   "id": "phantom-intake",
   "metadata": {},
   "outputs": [],
   "source": [
    "checkpointer = ModelCheckpoint(filepath='inception_v3_eyeglasses_smiling_male_nobeard_young.h5', verbose=1, save_best_only=True)"
   ]
  },
  {
   "cell_type": "code",
   "execution_count": null,
   "id": "handed-russell",
   "metadata": {},
   "outputs": [
    {
     "name": "stdout",
     "output_type": "stream",
     "text": [
      "Epoch 1/20\n",
      "10173/10173 [==============================] - 461s 45ms/step - loss: 0.3680 - accuracy: 0.8306 - val_loss: 0.6186 - val_accuracy: 0.6980\n",
      "\n",
      "Epoch 00001: val_loss improved from inf to 0.61862, saving model to inception_v3_eyeglasses_smiling_male_nobeard_young.h5\n",
      "Epoch 2/20\n",
      "10173/10173 [==============================] - 459s 45ms/step - loss: 0.3478 - accuracy: 0.8418 - val_loss: 0.5421 - val_accuracy: 0.6953\n",
      "\n",
      "Epoch 00002: val_loss improved from 0.61862 to 0.54207, saving model to inception_v3_eyeglasses_smiling_male_nobeard_young.h5\n",
      "Epoch 3/20\n",
      "10173/10173 [==============================] - 457s 45ms/step - loss: 0.3425 - accuracy: 0.8446 - val_loss: 0.5049 - val_accuracy: 0.7009\n",
      "\n",
      "Epoch 00003: val_loss improved from 0.54207 to 0.50487, saving model to inception_v3_eyeglasses_smiling_male_nobeard_young.h5\n",
      "Epoch 4/20\n",
      "10173/10173 [==============================] - 457s 45ms/step - loss: 0.3392 - accuracy: 0.8459 - val_loss: 0.5046 - val_accuracy: 0.7115\n",
      "\n",
      "Epoch 00004: val_loss improved from 0.50487 to 0.50456, saving model to inception_v3_eyeglasses_smiling_male_nobeard_young.h5\n",
      "Epoch 5/20\n",
      "10173/10173 [==============================] - 451s 44ms/step - loss: 0.3376 - accuracy: 0.8473 - val_loss: 0.5655 - val_accuracy: 0.7134\n",
      "\n",
      "Epoch 00005: val_loss did not improve from 0.50456\n",
      "Epoch 6/20\n",
      "10173/10173 [==============================] - 460s 45ms/step - loss: 0.3362 - accuracy: 0.8481 - val_loss: 0.6200 - val_accuracy: 0.7126\n",
      "\n",
      "Epoch 00006: val_loss did not improve from 0.50456\n",
      "Epoch 7/20\n",
      "10173/10173 [==============================] - 463s 46ms/step - loss: 0.3346 - accuracy: 0.8488 - val_loss: 0.4651 - val_accuracy: 0.7138\n",
      "\n",
      "Epoch 00007: val_loss improved from 0.50456 to 0.46508, saving model to inception_v3_eyeglasses_smiling_male_nobeard_young.h5\n",
      "Epoch 8/20\n",
      "10173/10173 [==============================] - 455s 45ms/step - loss: 0.3346 - accuracy: 0.8491 - val_loss: 0.6595 - val_accuracy: 0.7136\n",
      "\n",
      "Epoch 00008: val_loss did not improve from 0.46508\n",
      "Epoch 9/20\n",
      "10173/10173 [==============================] - 459s 45ms/step - loss: 0.3334 - accuracy: 0.8498 - val_loss: 0.4941 - val_accuracy: 0.7122\n",
      "\n",
      "Epoch 00009: val_loss did not improve from 0.46508\n",
      "Epoch 10/20\n",
      "10171/10173 [============================>.] - ETA: 0s - loss: 0.3332 - accuracy: 0.8498"
     ]
    }
   ],
   "source": [
    "hist = model.fit_generator(train_generator,\n",
    "                            validation_data = valid_generator,\n",
    "                            steps_per_epoch= len(train_df)//_batch_size,\n",
    "                            validation_steps=len(valid_df) // _batch_size,\n",
    "                            epochs=_num_epochs,\n",
    "                            callbacks=[checkpointer],\n",
    "                            verbose=1,\n",
    "                           )"
   ]
  },
  {
   "cell_type": "code",
   "execution_count": 24,
   "id": "disturbed-contemporary",
   "metadata": {},
   "outputs": [
    {
     "ename": "NameError",
     "evalue": "name 'hist' is not defined",
     "output_type": "error",
     "traceback": [
      "\u001b[0;31m---------------------------------------------------------------------------\u001b[0m",
      "\u001b[0;31mNameError\u001b[0m                                 Traceback (most recent call last)",
      "\u001b[0;32m<ipython-input-24-a5ee3d58f375>\u001b[0m in \u001b[0;36m<module>\u001b[0;34m\u001b[0m\n\u001b[1;32m      1\u001b[0m \u001b[0mplt\u001b[0m\u001b[0;34m.\u001b[0m\u001b[0mfigure\u001b[0m\u001b[0;34m(\u001b[0m\u001b[0mfigsize\u001b[0m\u001b[0;34m=\u001b[0m\u001b[0;34m(\u001b[0m\u001b[0;36m18\u001b[0m\u001b[0;34m,\u001b[0m \u001b[0;36m4\u001b[0m\u001b[0;34m)\u001b[0m\u001b[0;34m)\u001b[0m\u001b[0;34m\u001b[0m\u001b[0;34m\u001b[0m\u001b[0m\n\u001b[0;32m----> 2\u001b[0;31m \u001b[0mplt\u001b[0m\u001b[0;34m.\u001b[0m\u001b[0mplot\u001b[0m\u001b[0;34m(\u001b[0m\u001b[0mhist\u001b[0m\u001b[0;34m.\u001b[0m\u001b[0mhistory\u001b[0m\u001b[0;34m[\u001b[0m\u001b[0;34m'loss'\u001b[0m\u001b[0;34m]\u001b[0m\u001b[0;34m,\u001b[0m \u001b[0mlabel\u001b[0m \u001b[0;34m=\u001b[0m \u001b[0;34m'train'\u001b[0m\u001b[0;34m)\u001b[0m\u001b[0;34m\u001b[0m\u001b[0;34m\u001b[0m\u001b[0m\n\u001b[0m\u001b[1;32m      3\u001b[0m \u001b[0mplt\u001b[0m\u001b[0;34m.\u001b[0m\u001b[0mplot\u001b[0m\u001b[0;34m(\u001b[0m\u001b[0mhist\u001b[0m\u001b[0;34m.\u001b[0m\u001b[0mhistory\u001b[0m\u001b[0;34m[\u001b[0m\u001b[0;34m'val_loss'\u001b[0m\u001b[0;34m]\u001b[0m\u001b[0;34m,\u001b[0m \u001b[0mlabel\u001b[0m \u001b[0;34m=\u001b[0m \u001b[0;34m'valid'\u001b[0m\u001b[0;34m)\u001b[0m\u001b[0;34m\u001b[0m\u001b[0;34m\u001b[0m\u001b[0m\n\u001b[1;32m      4\u001b[0m \u001b[0mplt\u001b[0m\u001b[0;34m.\u001b[0m\u001b[0mlegend\u001b[0m\u001b[0;34m(\u001b[0m\u001b[0;34m)\u001b[0m\u001b[0;34m\u001b[0m\u001b[0;34m\u001b[0m\u001b[0m\n\u001b[1;32m      5\u001b[0m \u001b[0mplt\u001b[0m\u001b[0;34m.\u001b[0m\u001b[0mtitle\u001b[0m\u001b[0;34m(\u001b[0m\u001b[0;34m'Loss Function'\u001b[0m\u001b[0;34m)\u001b[0m\u001b[0;34m\u001b[0m\u001b[0;34m\u001b[0m\u001b[0m\n",
      "\u001b[0;31mNameError\u001b[0m: name 'hist' is not defined"
     ]
    },
    {
     "data": {
      "text/plain": [
       "<Figure size 1296x288 with 0 Axes>"
      ]
     },
     "metadata": {},
     "output_type": "display_data"
    }
   ],
   "source": [
    "plt.figure(figsize=(18, 4))\n",
    "plt.plot(hist.history['loss'], label = 'train')\n",
    "plt.plot(hist.history['val_loss'], label = 'valid')\n",
    "plt.legend()\n",
    "plt.title('Loss Function')\n",
    "plt.show()"
   ]
  },
  {
   "cell_type": "code",
   "execution_count": 64,
   "id": "current-organic",
   "metadata": {},
   "outputs": [
    {
     "data": {
      "image/png": "[encoded data removed]",
      "text/plain": [
       "<Figure size 1296x288 with 1 Axes>"
      ]
     },
     "metadata": {
      "needs_background": "light"
     },
     "output_type": "display_data"
    }
   ],
   "source": [
    "plt.figure(figsize=(18, 4))\n",
    "plt.plot(hist.history['accuracy'], label = 'train')\n",
    "plt.plot(hist.history['val_accuracy'], label = 'valid')\n",
    "plt.legend()\n",
    "plt.title('Accuracy')\n",
    "plt.show()"
   ]
  },
  {
   "cell_type": "code",
   "execution_count": 27,
   "id": "communist-madrid",
   "metadata": {},
   "outputs": [
    {
     "name": "stdout",
     "output_type": "stream",
     "text": [
      "Found 19962 non-validated image filenames.\n"
     ]
    }
   ],
   "source": [
    "test_datagen =  ImageDataGenerator(\n",
    "    preprocessing_function=preprocess_input,\n",
    "    rescale=1./255,\n",
    ")\n",
    "\n",
    "test_generator = test_datagen.flow_from_dataframe(\n",
    "    test_df,\n",
    "    batch_size=1,\n",
    "    x_col='filename', \n",
    "    y_col=['Eyeglasses', 'Smiling', 'Male', 'No_Beard', 'Young'],\n",
    "    class_mode='raw',\n",
    "    target_size=(_img_width, _img_height),\n",
    "    validate_filenames=False,\n",
    "    shuffle=False)"
   ]
  },
  {
   "cell_type": "code",
   "execution_count": null,
   "id": "sorted-tourism",
   "metadata": {},
   "outputs": [],
   "source": [
    "model.load_weights('inception_v3_eyeglasses_smiling_male_nobeard_young.h5')\n",
    "model_predictions = model.predict(test_generator)"
   ]
  },
  {
   "cell_type": "code",
   "execution_count": 67,
   "id": "fossil-mistake",
   "metadata": {},
   "outputs": [],
   "source": [
    "preds = np.array(model_predictions > 0.5).astype(int)"
   ]
  },
  {
   "cell_type": "code",
   "execution_count": 68,
   "id": "breeding-fabric",
   "metadata": {},
   "outputs": [
    {
     "data": {
      "text/plain": [
       "99.63931469792607"
      ]
     },
     "execution_count": 68,
     "metadata": {},
     "output_type": "execute_result"
    }
   ],
   "source": [
    "test_accuracy = 100 * accuracy_score(preds, test_df.loc[:, ['Eyeglasses']].values)\n",
    "test_accuracy"
   ]
  },
  {
   "cell_type": "code",
   "execution_count": 69,
   "id": "reasonable-danger",
   "metadata": {},
   "outputs": [
    {
     "data": {
      "text/plain": [
       "0.9718530101641909"
      ]
     },
     "execution_count": 69,
     "metadata": {},
     "output_type": "execute_result"
    }
   ],
   "source": [
    "f1 = f1_score(test_df.loc[:,  ['Eyeglasses']].values, preds)\n",
    "f1"
   ]
  },
  {
   "cell_type": "code",
   "execution_count": null,
   "id": "complex-draft",
   "metadata": {},
   "outputs": [],
   "source": []
  }
 ],
 "metadata": {
  "kernelspec": {
   "display_name": "Python 3",
   "language": "python",
   "name": "python3"
  },
  "language_info": {
   "codemirror_mode": {
    "name": "ipython",
    "version": 3
   },
   "file_extension": ".py",
   "mimetype": "text/x-python",
   "name": "python",
   "nbconvert_exporter": "python",
   "pygments_lexer": "ipython3",
   "version": "3.7.9"
  }
 },
 "nbformat": 4,
 "nbformat_minor": 5
}
