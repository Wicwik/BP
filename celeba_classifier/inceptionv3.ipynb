{
 "cells": [
  {
   "cell_type": "code",
   "execution_count": 47,
   "id": "intellectual-world",
   "metadata": {},
   "outputs": [],
   "source": [
    "import os\n",
    "import pandas as pd\n",
    "import numpy as np\n",
    "\n",
    "import keras\n",
    "from keras.models import Sequential, Model \n",
    "from keras.layers import Dropout, Flatten, Dense, GlobalAveragePooling2D\n",
    "from keras.preprocessing.image import ImageDataGenerator\n",
    "from keras.applications.inception_v3 import InceptionV3, preprocess_input\n",
    "from keras.optimizers import SGD\n",
    "from keras.callbacks import ModelCheckpoint"
   ]
  },
  {
   "cell_type": "code",
   "execution_count": 48,
   "id": "vietnamese-situation",
   "metadata": {},
   "outputs": [],
   "source": [
    "_image_dir = '../datasets/celeba/img_align_celeba_png/'\n",
    "_img_width = 178\n",
    "_img_height = 218\n",
    "_batch_size = 16\n",
    "_num_epochs = 20"
   ]
  },
  {
   "cell_type": "code",
   "execution_count": 49,
   "id": "joint-vegetarian",
   "metadata": {},
   "outputs": [
    {
     "data": {
      "text/html": [
       "<div>\n",
       "<style scoped>\n",
       "    .dataframe tbody tr th:only-of-type {\n",
       "        vertical-align: middle;\n",
       "    }\n",
       "\n",
       "    .dataframe tbody tr th {\n",
       "        vertical-align: top;\n",
       "    }\n",
       "\n",
       "    .dataframe thead th {\n",
       "        text-align: right;\n",
       "    }\n",
       "</style>\n",
       "<table border=\"1\" class=\"dataframe\">\n",
       "  <thead>\n",
       "    <tr style=\"text-align: right;\">\n",
       "      <th></th>\n",
       "      <th>filename</th>\n",
       "      <th>Eyeglasses</th>\n",
       "      <th>Smiling</th>\n",
       "      <th>Wearing_Lipstick</th>\n",
       "      <th>No_Beard</th>\n",
       "      <th>Young</th>\n",
       "      <th>partition</th>\n",
       "    </tr>\n",
       "  </thead>\n",
       "  <tbody>\n",
       "    <tr>\n",
       "      <th>0</th>\n",
       "      <td>../datasets/celeba/img_align_celeba_png/000001...</td>\n",
       "      <td>0</td>\n",
       "      <td>1</td>\n",
       "      <td>1</td>\n",
       "      <td>1</td>\n",
       "      <td>1</td>\n",
       "      <td>0</td>\n",
       "    </tr>\n",
       "    <tr>\n",
       "      <th>1</th>\n",
       "      <td>../datasets/celeba/img_align_celeba_png/000002...</td>\n",
       "      <td>0</td>\n",
       "      <td>1</td>\n",
       "      <td>0</td>\n",
       "      <td>1</td>\n",
       "      <td>1</td>\n",
       "      <td>0</td>\n",
       "    </tr>\n",
       "    <tr>\n",
       "      <th>2</th>\n",
       "      <td>../datasets/celeba/img_align_celeba_png/000003...</td>\n",
       "      <td>0</td>\n",
       "      <td>0</td>\n",
       "      <td>0</td>\n",
       "      <td>1</td>\n",
       "      <td>1</td>\n",
       "      <td>0</td>\n",
       "    </tr>\n",
       "    <tr>\n",
       "      <th>3</th>\n",
       "      <td>../datasets/celeba/img_align_celeba_png/000004...</td>\n",
       "      <td>0</td>\n",
       "      <td>0</td>\n",
       "      <td>1</td>\n",
       "      <td>1</td>\n",
       "      <td>1</td>\n",
       "      <td>0</td>\n",
       "    </tr>\n",
       "    <tr>\n",
       "      <th>4</th>\n",
       "      <td>../datasets/celeba/img_align_celeba_png/000005...</td>\n",
       "      <td>0</td>\n",
       "      <td>0</td>\n",
       "      <td>1</td>\n",
       "      <td>1</td>\n",
       "      <td>1</td>\n",
       "      <td>0</td>\n",
       "    </tr>\n",
       "  </tbody>\n",
       "</table>\n",
       "</div>"
      ],
      "text/plain": [
       "                                            filename  Eyeglasses  Smiling  \\\n",
       "0  ../datasets/celeba/img_align_celeba_png/000001...           0        1   \n",
       "1  ../datasets/celeba/img_align_celeba_png/000002...           0        1   \n",
       "2  ../datasets/celeba/img_align_celeba_png/000003...           0        0   \n",
       "3  ../datasets/celeba/img_align_celeba_png/000004...           0        0   \n",
       "4  ../datasets/celeba/img_align_celeba_png/000005...           0        0   \n",
       "\n",
       "   Wearing_Lipstick  No_Beard  Young  partition  \n",
       "0                 1         1      1          0  \n",
       "1                 0         1      1          0  \n",
       "2                 0         1      1          0  \n",
       "3                 1         1      1          0  \n",
       "4                 1         1      1          0  "
      ]
     },
     "execution_count": 49,
     "metadata": {},
     "output_type": "execute_result"
    }
   ],
   "source": [
    "img_df = pd.read_csv('../datasets/celeba/attributes/attr_celeba.csv').replace({-1:0})[['filename', 'Eyeglasses', 'Smiling', 'Wearing_Lipstick', 'No_Beard', 'Young']]\n",
    "partition_df = pd.read_csv('../datasets/celeba/attributes/list_eval_partition.csv')\n",
    "img_df = img_df.merge(partition_df, on='filename')\n",
    "img_df.loc[:, 'filename'] = img_df.loc[:, 'filename'].apply(lambda x: os.path.join(_image_dir, x))\n",
    "img_df.head()"
   ]
  },
  {
   "cell_type": "code",
   "execution_count": 50,
   "id": "requested-frequency",
   "metadata": {},
   "outputs": [],
   "source": [
    "train_df = img_df.loc[img_df.loc[:, 'partition'] == 0, ['filename', 'Eyeglasses']]\n",
    "valid_df = img_df.loc[img_df.loc[:, 'partition'] == 1, ['filename', 'Eyeglasses']]\n",
    "test_df = img_df.loc[img_df.loc[:, 'partition'] == 2, ['filename', 'Eyeglasses',]]"
   ]
  },
  {
   "cell_type": "code",
   "execution_count": 52,
   "id": "threatened-capitol",
   "metadata": {},
   "outputs": [
    {
     "name": "stdout",
     "output_type": "stream",
     "text": [
      "Found 162770 non-validated image filenames.\n"
     ]
    }
   ],
   "source": [
    "train_datagen =  ImageDataGenerator(\n",
    "#     rotation_range=30,\n",
    "#     width_shift_range=0.2,\n",
    "#     height_shift_range=0.2,\n",
    "#     shear_range=0.2,\n",
    "#     zoom_range=0.2,\n",
    "#     horizontal_flip=True,\n",
    "#     brightness_range=[0.4,1.5],\n",
    "    preprocessing_function=preprocess_input,\n",
    "    rescale=1./255,\n",
    ")\n",
    "\n",
    "train_generator = train_datagen.flow_from_dataframe(\n",
    "    train_df,\n",
    "    batch_size=_batch_size,\n",
    "    x_col='filename', \n",
    "    y_col='Eyeglasses',\n",
    "    class_mode='raw',\n",
    "    target_size=(_img_width, _img_height),\n",
    "    validate_filenames=False)"
   ]
  },
  {
   "cell_type": "code",
   "execution_count": 53,
   "id": "impressive-honor",
   "metadata": {},
   "outputs": [
    {
     "name": "stdout",
     "output_type": "stream",
     "text": [
      "Found 19867 non-validated image filenames.\n"
     ]
    }
   ],
   "source": [
    "valid_datagen =  ImageDataGenerator(\n",
    "    preprocessing_function=preprocess_input,\n",
    "    rescale=1./255\n",
    ")\n",
    "\n",
    "valid_generator = valid_datagen.flow_from_dataframe(\n",
    "    valid_df,\n",
    "    batch_size=_batch_size,\n",
    "    x_col='filename', \n",
    "    y_col='Eyeglasses',\n",
    "    class_mode='raw',\n",
    "    target_size=(_img_width, _img_height),\n",
    "    validate_filenames=False)"
   ]
  },
  {
   "cell_type": "code",
   "execution_count": 54,
   "id": "working-bearing",
   "metadata": {},
   "outputs": [
    {
     "name": "stdout",
     "output_type": "stream",
     "text": [
      "Downloading data from https://github.com/fchollet/deep-learning-models/releases/download/v0.5/inception_v3_weights_tf_dim_ordering_tf_kernels_notop.h5\n",
      "87916544/87910968 [==============================] - 56s 1us/step\n",
      "number of layers: 311\n"
     ]
    }
   ],
   "source": [
    "base_model = InceptionV3(weights='imagenet',\n",
    "                        include_top=False,\n",
    "                        input_shape=(_img_width, _img_height, 3))\n",
    "\n",
    "print(\"number of layers:\", len(base_model.layers))\n",
    "\n",
    "for layer in model.layers[:52]:\n",
    "    layer.trainable = False"
   ]
  },
  {
   "cell_type": "code",
   "execution_count": 55,
   "id": "collectible-delhi",
   "metadata": {},
   "outputs": [],
   "source": [
    "x = base_model.output\n",
    "x = GlobalAveragePooling2D()(x)\n",
    "x = Dense(1024, activation=\"relu\")(x)\n",
    "x = Dropout(0.5)(x)\n",
    "x = Dense(512, activation=\"relu\")(x)\n",
    "predictions = Dense(1, activation=\"sigmoid\")(x)"
   ]
  },
  {
   "cell_type": "code",
   "execution_count": 56,
   "id": "considerable-klein",
   "metadata": {},
   "outputs": [],
   "source": [
    "model = Model(inputs=base_model.input, outputs=predictions)\n",
    "model.compile(optimizer='adam', loss='binary_crossentropy', metrics=['accuracy'])"
   ]
  },
  {
   "cell_type": "code",
   "execution_count": 57,
   "id": "legislative-brunswick",
   "metadata": {},
   "outputs": [],
   "source": [
    "checkpointer = ModelCheckpoint(filepath='inception_v3_eyeglasses.h5', verbose=1, save_best_only=True)"
   ]
  },
  {
   "cell_type": "code",
   "execution_count": null,
   "id": "active-norfolk",
   "metadata": {},
   "outputs": [
    {
     "name": "stdout",
     "output_type": "stream",
     "text": [
      "Epoch 1/20\n",
      "10173/10173 [==============================] - 1329s 131ms/step - loss: 0.0746 - accuracy: 0.9804 - val_loss: 0.1871 - val_accuracy: 0.9744\n",
      "\n",
      "Epoch 00001: val_loss improved from inf to 0.18707, saving model to inception_v3_eyeglasses.h5\n",
      "Epoch 2/20\n",
      "10173/10173 [==============================] - 1325s 130ms/step - loss: 0.0327 - accuracy: 0.9914 - val_loss: 0.0038 - val_accuracy: 0.9519\n",
      "\n",
      "Epoch 00002: val_loss improved from 0.18707 to 0.00385, saving model to inception_v3_eyeglasses.h5\n",
      "Epoch 3/20\n",
      "10173/10173 [==============================] - 1327s 130ms/step - loss: 0.0337 - accuracy: 0.9908 - val_loss: 0.5980 - val_accuracy: 0.9874\n",
      "\n",
      "Epoch 00003: val_loss did not improve from 0.00385\n",
      "Epoch 4/20\n",
      "10173/10173 [==============================] - 1326s 130ms/step - loss: 0.0270 - accuracy: 0.9935 - val_loss: 2.6612e-04 - val_accuracy: 0.9911\n",
      "\n",
      "Epoch 00004: val_loss improved from 0.00385 to 0.00027, saving model to inception_v3_eyeglasses.h5\n",
      "Epoch 5/20\n",
      "10173/10173 [==============================] - 1329s 131ms/step - loss: 0.0227 - accuracy: 0.9944 - val_loss: 0.0765 - val_accuracy: 0.9938\n",
      "\n",
      "Epoch 00005: val_loss did not improve from 0.00027\n",
      "Epoch 6/20\n",
      "10173/10173 [==============================] - 1326s 130ms/step - loss: 0.0257 - accuracy: 0.9945 - val_loss: 0.0235 - val_accuracy: 0.9941\n",
      "\n",
      "Epoch 00006: val_loss did not improve from 0.00027\n",
      "Epoch 7/20\n",
      "10173/10173 [==============================] - 1328s 131ms/step - loss: 0.0190 - accuracy: 0.9950 - val_loss: 0.0084 - val_accuracy: 0.9951\n",
      "\n",
      "Epoch 00007: val_loss did not improve from 0.00027\n",
      "Epoch 8/20\n",
      "10173/10173 [==============================] - 1331s 131ms/step - loss: 0.0284 - accuracy: 0.9946 - val_loss: 6.3176e-04 - val_accuracy: 0.9947\n",
      "\n",
      "Epoch 00008: val_loss did not improve from 0.00027\n",
      "Epoch 9/20\n",
      "10173/10173 [==============================] - 1331s 131ms/step - loss: 0.0164 - accuracy: 0.9956 - val_loss: 2.8292e-04 - val_accuracy: 0.9945\n",
      "\n",
      "Epoch 00009: val_loss did not improve from 0.00027\n",
      "Epoch 10/20\n",
      "10173/10173 [==============================] - 1328s 131ms/step - loss: 0.0204 - accuracy: 0.9956 - val_loss: 5.7715e-04 - val_accuracy: 0.9946\n",
      "\n",
      "Epoch 00010: val_loss did not improve from 0.00027\n",
      "Epoch 11/20\n",
      "10173/10173 [==============================] - 1325s 130ms/step - loss: 0.0151 - accuracy: 0.9961 - val_loss: 0.0011 - val_accuracy: 0.9951\n",
      "\n",
      "Epoch 00011: val_loss did not improve from 0.00027\n",
      "Epoch 12/20\n",
      "10173/10173 [==============================] - 1326s 130ms/step - loss: 0.0160 - accuracy: 0.9959 - val_loss: 2.8823e-05 - val_accuracy: 0.9950\n",
      "\n",
      "Epoch 00012: val_loss improved from 0.00027 to 0.00003, saving model to inception_v3_eyeglasses.h5\n",
      "Epoch 13/20\n",
      "10173/10173 [==============================] - 1330s 131ms/step - loss: 0.0230 - accuracy: 0.9956 - val_loss: 3.5243e-04 - val_accuracy: 0.9957\n",
      "\n",
      "Epoch 00013: val_loss did not improve from 0.00003\n",
      "Epoch 14/20\n",
      "10173/10173 [==============================] - 1329s 131ms/step - loss: 0.0147 - accuracy: 0.9963 - val_loss: 0.0099 - val_accuracy: 0.9956\n",
      "\n",
      "Epoch 00014: val_loss did not improve from 0.00003\n",
      "Epoch 15/20\n",
      "10173/10173 [==============================] - 1334s 131ms/step - loss: 0.0155 - accuracy: 0.9962 - val_loss: 0.0032 - val_accuracy: 0.9944\n",
      "\n",
      "Epoch 00015: val_loss did not improve from 0.00003\n",
      "Epoch 16/20\n",
      " 8296/10173 [=======================>......] - ETA: 3:54 - loss: 0.0167 - accuracy: 0.9966"
     ]
    }
   ],
   "source": [
    "hist = model.fit_generator(train_generator,\n",
    "                            validation_data = valid_generator,\n",
    "                            steps_per_epoch= len(train_df)//_batch_size,\n",
    "                            validation_steps=len(valid_df) // _batch_size,\n",
    "                            epochs= _num_epochs,\n",
    "                            callbacks=[checkpointer],\n",
    "                            verbose=1,\n",
    "                           )"
   ]
  },
  {
   "cell_type": "code",
   "execution_count": null,
   "id": "mineral-gates",
   "metadata": {},
   "outputs": [],
   "source": []
  }
 ],
 "metadata": {
  "kernelspec": {
   "display_name": "Python 3",
   "language": "python",
   "name": "python3"
  },
  "language_info": {
   "codemirror_mode": {
    "name": "ipython",
    "version": 3
   },
   "file_extension": ".py",
   "mimetype": "text/x-python",
   "name": "python",
   "nbconvert_exporter": "python",
   "pygments_lexer": "ipython3",
   "version": "3.7.9"
  }
 },
 "nbformat": 4,
 "nbformat_minor": 5
}
