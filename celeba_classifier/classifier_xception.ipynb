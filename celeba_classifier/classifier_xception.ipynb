{
 "cells": [
  {
   "cell_type": "code",
   "execution_count": 3,
   "id": "instant-singapore",
   "metadata": {},
   "outputs": [],
   "source": [
    "import os\n",
    "\n",
    "import pandas as pd\n",
    "import numpy as np\n",
    "import cv2\n",
    "import matplotlib.pyplot as plt\n",
    "import tensorflow as tf\n",
    "import keras\n",
    "from keras.preprocessing.image import ImageDataGenerator\n",
    "from keras.callbacks import ModelCheckpoint\n",
    "from keras.applications import Xception\n",
    "from keras import layers\n",
    "from keras.applications.xception import preprocess_input\n",
    "\n",
    "from sklearn.metrics import f1_score\n",
    "from sklearn.metrics import accuracy_score\n",
    "from sklearn.metrics import roc_curve, auc\n",
    "\n",
    "from tensorflow import keras as tk"
   ]
  },
  {
   "cell_type": "code",
   "execution_count": 5,
   "id": "optional-trailer",
   "metadata": {},
   "outputs": [],
   "source": [
    "_image_dir = '../datasets/celeba/img_align_celeba_png/'\n",
    "_img_width = 178\n",
    "_img_height = 218\n",
    "_batch_size = 20\n",
    "_num_epochs = 10"
   ]
  },
  {
   "cell_type": "code",
   "execution_count": 3,
   "id": "decimal-composite",
   "metadata": {},
   "outputs": [
    {
     "data": {
      "text/html": [
       "<div>\n",
       "<style scoped>\n",
       "    .dataframe tbody tr th:only-of-type {\n",
       "        vertical-align: middle;\n",
       "    }\n",
       "\n",
       "    .dataframe tbody tr th {\n",
       "        vertical-align: top;\n",
       "    }\n",
       "\n",
       "    .dataframe thead th {\n",
       "        text-align: right;\n",
       "    }\n",
       "</style>\n",
       "<table border=\"1\" class=\"dataframe\">\n",
       "  <thead>\n",
       "    <tr style=\"text-align: right;\">\n",
       "      <th></th>\n",
       "      <th>filename</th>\n",
       "      <th>Eyeglasses</th>\n",
       "      <th>Smiling</th>\n",
       "      <th>Wearing_Lipstick</th>\n",
       "      <th>No_Beard</th>\n",
       "      <th>Young</th>\n",
       "      <th>partition</th>\n",
       "    </tr>\n",
       "  </thead>\n",
       "  <tbody>\n",
       "    <tr>\n",
       "      <th>0</th>\n",
       "      <td>../datasets/celeba/img_align_celeba_png/000001...</td>\n",
       "      <td>0</td>\n",
       "      <td>1</td>\n",
       "      <td>1</td>\n",
       "      <td>1</td>\n",
       "      <td>1</td>\n",
       "      <td>0</td>\n",
       "    </tr>\n",
       "    <tr>\n",
       "      <th>1</th>\n",
       "      <td>../datasets/celeba/img_align_celeba_png/000002...</td>\n",
       "      <td>0</td>\n",
       "      <td>1</td>\n",
       "      <td>0</td>\n",
       "      <td>1</td>\n",
       "      <td>1</td>\n",
       "      <td>0</td>\n",
       "    </tr>\n",
       "    <tr>\n",
       "      <th>2</th>\n",
       "      <td>../datasets/celeba/img_align_celeba_png/000003...</td>\n",
       "      <td>0</td>\n",
       "      <td>0</td>\n",
       "      <td>0</td>\n",
       "      <td>1</td>\n",
       "      <td>1</td>\n",
       "      <td>0</td>\n",
       "    </tr>\n",
       "    <tr>\n",
       "      <th>3</th>\n",
       "      <td>../datasets/celeba/img_align_celeba_png/000004...</td>\n",
       "      <td>0</td>\n",
       "      <td>0</td>\n",
       "      <td>1</td>\n",
       "      <td>1</td>\n",
       "      <td>1</td>\n",
       "      <td>0</td>\n",
       "    </tr>\n",
       "    <tr>\n",
       "      <th>4</th>\n",
       "      <td>../datasets/celeba/img_align_celeba_png/000005...</td>\n",
       "      <td>0</td>\n",
       "      <td>0</td>\n",
       "      <td>1</td>\n",
       "      <td>1</td>\n",
       "      <td>1</td>\n",
       "      <td>0</td>\n",
       "    </tr>\n",
       "  </tbody>\n",
       "</table>\n",
       "</div>"
      ],
      "text/plain": [
       "                                            filename  Eyeglasses  Smiling  \\\n",
       "0  ../datasets/celeba/img_align_celeba_png/000001...           0        1   \n",
       "1  ../datasets/celeba/img_align_celeba_png/000002...           0        1   \n",
       "2  ../datasets/celeba/img_align_celeba_png/000003...           0        0   \n",
       "3  ../datasets/celeba/img_align_celeba_png/000004...           0        0   \n",
       "4  ../datasets/celeba/img_align_celeba_png/000005...           0        0   \n",
       "\n",
       "   Wearing_Lipstick  No_Beard  Young  partition  \n",
       "0                 1         1      1          0  \n",
       "1                 0         1      1          0  \n",
       "2                 0         1      1          0  \n",
       "3                 1         1      1          0  \n",
       "4                 1         1      1          0  "
      ]
     },
     "execution_count": 3,
     "metadata": {},
     "output_type": "execute_result"
    }
   ],
   "source": [
    "img_df = pd.read_csv('../datasets/celeba/attributes/attr_celeba.csv').replace({-1:0})[['filename', 'Eyeglasses', 'Smiling', 'Wearing_Lipstick', 'No_Beard', 'Young']]\n",
    "partition_df = pd.read_csv('../datasets/celeba/attributes/list_eval_partition.csv')\n",
    "img_df = img_df.merge(partition_df, on='filename')\n",
    "img_df.loc[:, 'filename'] = img_df.loc[:, 'filename'].apply(lambda x: os.path.join(_image_dir, x))\n",
    "img_df.head()"
   ]
  },
  {
   "cell_type": "code",
   "execution_count": 4,
   "id": "portable-prairie",
   "metadata": {},
   "outputs": [],
   "source": [
    "train_df = img_df.loc[img_df.loc[:, 'partition'] == 0, ['filename', 'Eyeglasses', 'Smiling', 'Wearing_Lipstick', 'No_Beard', 'Young']]\n",
    "valid_df = img_df.loc[img_df.loc[:, 'partition'] == 1, ['filename', 'Eyeglasses', 'Smiling', 'Wearing_Lipstick', 'No_Beard', 'Young']]\n",
    "test_df = img_df.loc[img_df.loc[:, 'partition'] == 2, ['filename', 'Eyeglasses', 'Smiling', 'Wearing_Lipstick', 'No_Beard', 'Young']]"
   ]
  },
  {
   "cell_type": "code",
   "execution_count": 5,
   "id": "breathing-synthesis",
   "metadata": {},
   "outputs": [
    {
     "name": "stdout",
     "output_type": "stream",
     "text": [
      "Found 162770 non-validated image filenames.\n"
     ]
    }
   ],
   "source": [
    "train_datagen =  ImageDataGenerator(\n",
    "#     rotation_range=30,\n",
    "#     width_shift_range=0.2,\n",
    "#     height_shift_range=0.2,\n",
    "#     shear_range=0.2<<<<,\n",
    "#     zoom_range=0.2,\n",
    "#     horizontal_flip=True,\n",
    "#     brightness_range=[0.4,1.5],\n",
    "    preprocessing_function=preprocess_input,\n",
    "    rescale=1./255,\n",
    ")\n",
    "\n",
    "train_generator = train_datagen.flow_from_dataframe(\n",
    "    train_df,\n",
    "    batch_size=_batch_size,\n",
    "    x_col='filename', \n",
    "    y_col='Eyeglasses',\n",
    "    class_mode='raw',\n",
    "    target_size=(_img_width, _img_height),\n",
    "    validate_filenames=False)"
   ]
  },
  {
   "cell_type": "code",
   "execution_count": 30,
   "id": "looking-receipt",
   "metadata": {},
   "outputs": [
    {
     "name": "stdout",
     "output_type": "stream",
     "text": [
      "Found 19867 non-validated image filenames.\n"
     ]
    }
   ],
   "source": [
    "valid_datagen =  ImageDataGenerator(\n",
    "    preprocessing_function=preprocess_input,\n",
    "    rescale=1./255\n",
    ")\n",
    "\n",
    "valid_generator = valid_datagen.flow_from_dataframe(\n",
    "    valid_df,\n",
    "    batch_size=_batch_size,\n",
    "    x_col='filename', \n",
    "    y_col='Eyeglasses',\n",
    "    class_mode='raw',\n",
    "    target_size=(_img_width, _img_height),\n",
    "    validate_filenames=False)"
   ]
  },
  {
   "cell_type": "code",
   "execution_count": null,
   "id": "gross-calgary",
   "metadata": {},
   "outputs": [
    {
     "name": "stdout",
     "output_type": "stream",
     "text": [
      "WARNING:tensorflow:From /home/rbelanec/anaconda3/envs/BP/lib/python3.7/site-packages/tensorflow_core/python/ops/resource_variable_ops.py:1630: calling BaseResourceVariable.__init__ (from tensorflow.python.ops.resource_variable_ops) with constraint is deprecated and will be removed in a future version.\n",
      "Instructions for updating:\n",
      "If using Keras pass *_constraint arguments to layers.\n"
     ]
    }
   ],
   "source": [
    "base_model = Xception(\n",
    "             input_shape=(_img_width, _img_height, 3), \n",
    "             include_top=False, \n",
    "             weights=\"imagenet\"\n",
    "        )\n",
    "\n",
    "for layer in base_model.layers:\n",
    "    layer.trainable = False"
   ]
  },
  {
   "cell_type": "code",
   "execution_count": 57,
   "id": "complimentary-avatar",
   "metadata": {},
   "outputs": [
    {
     "name": "stdout",
     "output_type": "stream",
     "text": [
      "WARNING:tensorflow:Large dropout rate: 0.7 (>0.5). In TensorFlow 2.x, dropout() uses dropout rate instead of keep_prob. Please ensure that this is intended.\n"
     ]
    }
   ],
   "source": [
    "x = base_model.output\n",
    "x = layers.GlobalAveragePooling2D()(x)\n",
    "x = layers.Dense(8, activation=\"relu\")(x)\n",
    "x = layers.Dropout(0.7)(x)\n",
    "outputs = layers.Dense(1, activation=\"sigmoid\")(x)"
   ]
  },
  {
   "cell_type": "code",
   "execution_count": 45,
   "id": "floating-valve",
   "metadata": {},
   "outputs": [],
   "source": [
    "model = keras.Model(inputs=base_model.input, outputs=outputs)\n",
    "model.compile(\n",
    "              optimizer=keras.optimizers.Adam(lr=0.01),\n",
    "              loss='binary_crossentropy',\n",
    "              metrics=[keras.metrics.AUC(name=\"auc\")]\n",
    "        )"
   ]
  },
  {
   "cell_type": "code",
   "execution_count": 46,
   "id": "consistent-aberdeen",
   "metadata": {},
   "outputs": [
    {
     "name": "stdout",
     "output_type": "stream",
     "text": [
      "Epoch 1/10\n",
      "1271/1271 [==============================] - 67s 53ms/step - loss: 0.2448 - auc: 0.6966 - val_loss: 0.2113 - val_auc: 0.4270\n",
      "\n",
      "Epoch 00001: val_loss improved from inf to 0.21128, saving model to weights.Eyeglasses_xception2.h5\n",
      "Epoch 2/10\n",
      "1271/1271 [==============================] - 65s 51ms/step - loss: 0.2114 - auc: 0.7312 - val_loss: 0.3329 - val_auc: 0.3616\n",
      "\n",
      "Epoch 00002: val_loss did not improve from 0.21128\n",
      "Epoch 3/10\n",
      "1271/1271 [==============================] - 66s 52ms/step - loss: 0.2092 - auc: 0.7344 - val_loss: 0.0604 - val_auc: 0.4187\n",
      "\n",
      "Epoch 00003: val_loss improved from 0.21128 to 0.06045, saving model to weights.Eyeglasses_xception2.h5\n",
      "Epoch 4/10\n",
      "1271/1271 [==============================] - 65s 51ms/step - loss: 0.2149 - auc: 0.7220 - val_loss: 0.0822 - val_auc: 0.4149\n",
      "\n",
      "Epoch 00004: val_loss did not improve from 0.06045\n",
      "Epoch 5/10\n",
      "1271/1271 [==============================] - 65s 51ms/step - loss: 0.2067 - auc: 0.7126 - val_loss: 0.1991 - val_auc: 0.4022\n",
      "\n",
      "Epoch 00005: val_loss did not improve from 0.06045\n",
      "Epoch 6/10\n",
      "1271/1271 [==============================] - 65s 51ms/step - loss: 0.2105 - auc: 0.7416 - val_loss: 0.3308 - val_auc: 0.3782\n",
      "\n",
      "Epoch 00006: val_loss did not improve from 0.06045\n",
      "Epoch 7/10\n",
      "1271/1271 [==============================] - 64s 51ms/step - loss: 0.2132 - auc: 0.7414 - val_loss: 0.0718 - val_auc: 0.4019\n",
      "\n",
      "Epoch 00007: val_loss did not improve from 0.06045\n",
      "Epoch 8/10\n",
      "1271/1271 [==============================] - 65s 51ms/step - loss: 0.2068 - auc: 0.7453 - val_loss: 0.0697 - val_auc: 0.3244\n",
      "\n",
      "Epoch 00008: val_loss did not improve from 0.06045\n",
      "Epoch 9/10\n",
      "1271/1271 [==============================] - 65s 51ms/step - loss: 0.2094 - auc: 0.7551 - val_loss: 0.0728 - val_auc: 0.3501\n",
      "\n",
      "Epoch 00009: val_loss did not improve from 0.06045\n",
      "Epoch 10/10\n",
      "1271/1271 [==============================] - 65s 52ms/step - loss: 0.2128 - auc: 0.7230 - val_loss: 0.1979 - val_auc: 0.3782\n",
      "\n",
      "Epoch 00010: val_loss did not improve from 0.06045\n"
     ]
    }
   ],
   "source": [
    "checkpointer = ModelCheckpoint(filepath='weights.Eyeglasses_xception2.h5', verbose=1, save_best_only=True)\n",
    "history = model.fit(train_generator,\n",
    "                    validation_data=valid_generator,\n",
    "                    steps_per_epoch=len(train_df)//_batch_size,\n",
    "                    validation_steps=len(valid_df) // _batch_size,\n",
    "                    epochs=10,\n",
    "                    callbacks=[checkpointer],\n",
    "                    verbose=1)"
   ]
  },
  {
   "cell_type": "code",
   "execution_count": 12,
   "id": "executive-approval",
   "metadata": {},
   "outputs": [],
   "source": [
    "#model.load_weights('weights.Eyeglasses_xception2.h5')"
   ]
  },
  {
   "cell_type": "code",
   "execution_count": 47,
   "id": "crude-morgan",
   "metadata": {},
   "outputs": [
    {
     "name": "stdout",
     "output_type": "stream",
     "text": [
      "Found 19962 non-validated image filenames.\n"
     ]
    }
   ],
   "source": [
    "test_datagen =  ImageDataGenerator(\n",
    "    preprocessing_function=preprocess_input,\n",
    "    rescale=1./255,\n",
    ")\n",
    "\n",
    "test_generator = test_datagen.flow_from_dataframe(\n",
    "    test_df,\n",
    "    batch_size=1,\n",
    "    x_col='filename', \n",
    "    y_col='Eyeglasses',\n",
    "    class_mode='raw',\n",
    "    target_size=(_img_width, _img_height),\n",
    "    validate_filenames=False,\n",
    "    shuffle=False)"
   ]
  },
  {
   "cell_type": "code",
   "execution_count": 64,
   "id": "specified-today",
   "metadata": {},
   "outputs": [
    {
     "data": {
      "image/png": "[encoded data removed]",
      "text/plain": [
       "<Figure size 1296x288 with 1 Axes>"
      ]
     },
     "metadata": {
      "needs_background": "light"
     },
     "output_type": "display_data"
    }
   ],
   "source": [
    "plt.figure(figsize=(18, 4))\n",
    "plt.plot(history.history['loss'], label = 'train')\n",
    "plt.plot(history.history['val_loss'], label = 'valid')\n",
    "plt.legend()\n",
    "plt.title('Loss Function')\n",
    "plt.show()"
   ]
  },
  {
   "cell_type": "code",
   "execution_count": 65,
   "id": "noble-sewing",
   "metadata": {},
   "outputs": [
    {
     "data": {
      "image/png": "[encoded data removed]",
      "text/plain": [
       "<Figure size 1296x288 with 1 Axes>"
      ]
     },
     "metadata": {
      "needs_background": "light"
     },
     "output_type": "display_data"
    }
   ],
   "source": [
    "plt.figure(figsize=(18, 4))\n",
    "plt.plot(history.history['auc'], label = 'train')\n",
    "plt.plot(history.history['val_auc'], label = 'valid')\n",
    "plt.legend()\n",
    "plt.title('AUC')\n",
    "plt.show()"
   ]
  },
  {
   "cell_type": "code",
   "execution_count": 51,
   "id": "serious-girlfriend",
   "metadata": {},
   "outputs": [],
   "source": [
    "model_predictions = model.predict(test_generator)"
   ]
  },
  {
   "cell_type": "code",
   "execution_count": 52,
   "id": "governing-joining",
   "metadata": {},
   "outputs": [],
   "source": [
    "preds = np.array(model_predictions > 0.5).astype(int)"
   ]
  },
  {
   "cell_type": "code",
   "execution_count": 53,
   "id": "native-share",
   "metadata": {},
   "outputs": [
    {
     "data": {
      "text/plain": [
       "93.5427311892596"
      ]
     },
     "execution_count": 53,
     "metadata": {},
     "output_type": "execute_result"
    }
   ],
   "source": [
    "test_accuracy = 100 * accuracy_score(preds, test_df.loc[:, ['Eyeglasses']].values)\n",
    "test_accuracy"
   ]
  },
  {
   "cell_type": "code",
   "execution_count": 54,
   "id": "specific-floating",
   "metadata": {},
   "outputs": [
    {
     "data": {
      "text/plain": [
       "0.0"
      ]
     },
     "execution_count": 54,
     "metadata": {},
     "output_type": "execute_result"
    }
   ],
   "source": [
    "f1 = f1_score(test_df.loc[:,  ['Eyeglasses']].values, preds)\n",
    "f1"
   ]
  },
  {
   "cell_type": "code",
   "execution_count": 19,
   "id": "raised-pension",
   "metadata": {},
   "outputs": [
    {
     "data": {
      "text/plain": [
       "0"
      ]
     },
     "execution_count": 19,
     "metadata": {},
     "output_type": "execute_result"
    }
   ],
   "source": [
    "i = 0\n",
    "for pred in preds:\n",
    "    if pred == 1:\n",
    "        i+=1\n",
    "\n",
    "i"
   ]
  },
  {
   "cell_type": "code",
   "execution_count": 61,
   "id": "serial-viking",
   "metadata": {},
   "outputs": [
    {
     "data": {
      "text/plain": [
       "0.5"
      ]
     },
     "execution_count": 61,
     "metadata": {},
     "output_type": "execute_result"
    }
   ],
   "source": [
    "fpr, tpr, thresholds = roc_curve(test_df.loc[:,  ['Eyeglasses']].values, preds)\n",
    "auc(fpr, tpr)"
   ]
  },
  {
   "cell_type": "code",
   "execution_count": null,
   "id": "unlike-behavior",
   "metadata": {},
   "outputs": [],
   "source": []
  }
 ],
 "metadata": {
  "kernelspec": {
   "display_name": "Python 3",
   "language": "python",
   "name": "python3"
  },
  "language_info": {
   "codemirror_mode": {
    "name": "ipython",
    "version": 3
   },
   "file_extension": ".py",
   "mimetype": "text/x-python",
   "name": "python",
   "nbconvert_exporter": "python",
   "pygments_lexer": "ipython3",
   "version": "3.7.9"
  }
 },
 "nbformat": 4,
 "nbformat_minor": 5
}
