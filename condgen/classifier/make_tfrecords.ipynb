{
 "cells": [
  {
   "cell_type": "code",
   "execution_count": 4,
   "id": "racial-selection",
   "metadata": {},
   "outputs": [],
   "source": [
    "import tensorflow.compat.v2 as tfc\n",
    "import tensorflow as tf\n",
    "\n",
    "import pathlib\n",
    "import numpy as np\n",
    "import pandas as pd\n",
    "import IPython.display as display\n",
    "\n",
    "tf.compat.v1.enable_eager_execution()"
   ]
  },
  {
   "cell_type": "code",
   "execution_count": 134,
   "id": "eight-kidney",
   "metadata": {},
   "outputs": [],
   "source": [
    "def _bytes_feature(value):\n",
    "    if isinstance(value, type(tf.constant(0))):\n",
    "        value = value.numpy()\n",
    "        \n",
    "    if isinstance(value, str):\n",
    "        value = str.encode(value)\n",
    "        \n",
    "    return tf.train.Feature(bytes_list=tf.train.BytesList(value=[value]))"
   ]
  },
  {
   "cell_type": "code",
   "execution_count": 122,
   "id": "simple-remove",
   "metadata": {},
   "outputs": [],
   "source": [
    "def _int64_feature(value):\n",
    "    return tf.train.Feature(int64_list=tf.train.Int64List(value=[value]))"
   ]
  },
  {
   "cell_type": "code",
   "execution_count": 142,
   "id": "documented-increase",
   "metadata": {},
   "outputs": [],
   "source": [
    "def get_labels(img_name, df):\n",
    "    row = df.loc[df['filename'] == img_name]\n",
    "    \n",
    "    labels = {}\n",
    "    \n",
    "    for rowname in row:\n",
    "        value = row[rowname].values[0]\n",
    "        \n",
    "        if isinstance(value, str):\n",
    "            labels['filename'] = _bytes_feature(value)\n",
    "        else:\n",
    "            labels[rowname] = _int64_feature(value)\n",
    "            \n",
    "    return labels"
   ]
  },
  {
   "cell_type": "code",
   "execution_count": 147,
   "id": "divided-rebate",
   "metadata": {},
   "outputs": [],
   "source": [
    "def create_example(img_string, labels):\n",
    "    img_shape = tf.image.decode_png(img_string).shape\n",
    "    \n",
    "    feature = {\n",
    "        'height': _int64_feature(img_shape[0]),\n",
    "        'width': _int64_feature(img_shape[1]),\n",
    "        'depth': _int64_feature(img_shape[2]),\n",
    "    }\n",
    "    \n",
    "    feature = dict(feature, **labels)\n",
    "    feature['raw'] = _bytes_feature(img_string)\n",
    "    \n",
    "    return tf.train.Example(features=tf.train.Features(feature=feature))"
   ]
  },
  {
   "cell_type": "code",
   "execution_count": 8,
   "id": "aquatic-spare",
   "metadata": {},
   "outputs": [],
   "source": [
    "data_dir = pathlib.Path('../../datasets/celeba')\n",
    "img_dir = pathlib.Path(str(data_dir) + '/img_align_celeba_png')\n",
    "attr_dir = pathlib.Path(str(data_dir) + '/attr_celeba.csv')"
   ]
  },
  {
   "cell_type": "code",
   "execution_count": 9,
   "id": "cosmetic-hampton",
   "metadata": {},
   "outputs": [],
   "source": [
    "df = pd.read_csv(attr_dir)"
   ]
  },
  {
   "cell_type": "code",
   "execution_count": 127,
   "id": "alone-smell",
   "metadata": {},
   "outputs": [],
   "source": [
    "img_paths = list(img_dir.glob('*'))"
   ]
  },
  {
   "cell_type": "code",
   "execution_count": 152,
   "id": "passing-hawaii",
   "metadata": {},
   "outputs": [
    {
     "name": "stdout",
     "output_type": "stream",
     "text": [
      "202599 / 202599\r"
     ]
    }
   ],
   "source": [
    "examples = []\n",
    "counter = 0\n",
    "for img_path in img_paths:\n",
    "    img_string = open(img_path, 'rb').read()\n",
    "    examples.append(create_example(img_string, get_labels(str(img_path).split('/')[-1], df)))\n",
    "    counter += 1\n",
    "    print('%d / 202599\\r' % (counter), end='', flush=True)\n",
    "    "
   ]
  },
  {
   "cell_type": "code",
   "execution_count": 166,
   "id": "direct-shooting",
   "metadata": {},
   "outputs": [
    {
     "name": "stdout",
     "output_type": "stream",
     "text": [
      "3000 / 202599\r"
     ]
    },
    {
     "name": "stderr",
     "output_type": "stream",
     "text": [
      "IOPub message rate exceeded.\n",
      "The notebook server will temporarily stop sending output\n",
      "to the client in order to avoid crashing it.\n",
      "To change this limit, set the config variable\n",
      "`--NotebookApp.iopub_msg_rate_limit`.\n",
      "\n",
      "Current values:\n",
      "NotebookApp.iopub_msg_rate_limit=1000.0 (msgs/sec)\n",
      "NotebookApp.rate_limit_window=3.0 (secs)\n",
      "\n"
     ]
    },
    {
     "name": "stdout",
     "output_type": "stream",
     "text": [
      "7240 / 202599\r"
     ]
    },
    {
     "name": "stderr",
     "output_type": "stream",
     "text": [
      "IOPub message rate exceeded.\n",
      "The notebook server will temporarily stop sending output\n",
      "to the client in order to avoid crashing it.\n",
      "To change this limit, set the config variable\n",
      "`--NotebookApp.iopub_msg_rate_limit`.\n",
      "\n",
      "Current values:\n",
      "NotebookApp.iopub_msg_rate_limit=1000.0 (msgs/sec)\n",
      "NotebookApp.rate_limit_window=3.0 (secs)\n",
      "\n"
     ]
    },
    {
     "name": "stdout",
     "output_type": "stream",
     "text": [
      "11585 / 202599\r"
     ]
    },
    {
     "name": "stderr",
     "output_type": "stream",
     "text": [
      "IOPub message rate exceeded.\n",
      "The notebook server will temporarily stop sending output\n",
      "to the client in order to avoid crashing it.\n",
      "To change this limit, set the config variable\n",
      "`--NotebookApp.iopub_msg_rate_limit`.\n",
      "\n",
      "Current values:\n",
      "NotebookApp.iopub_msg_rate_limit=1000.0 (msgs/sec)\n",
      "NotebookApp.rate_limit_window=3.0 (secs)\n",
      "\n"
     ]
    },
    {
     "name": "stdout",
     "output_type": "stream",
     "text": [
      "202599 / 202599\r"
     ]
    }
   ],
   "source": [
    "record_file = 'images.tfrecords'\n",
    "counter = 0\n",
    "with tf.io.TFRecordWriter(record_file) as writer:\n",
    "    for tf_example in examples:\n",
    "        writer.write(tf_example.SerializeToString())\n",
    "    \n",
    "        counter += 1\n",
    "        print('%d / 202599\\r' % (counter), end='', flush=True)\n",
    "    "
   ]
  }
 ],
 "metadata": {
  "kernelspec": {
   "display_name": "Python 3",
   "language": "python",
   "name": "python3"
  },
  "language_info": {
   "codemirror_mode": {
    "name": "ipython",
    "version": 3
   },
   "file_extension": ".py",
   "mimetype": "text/x-python",
   "name": "python",
   "nbconvert_exporter": "python",
   "pygments_lexer": "ipython3",
   "version": "3.7.9"
  }
 },
 "nbformat": 4,
 "nbformat_minor": 5
}
